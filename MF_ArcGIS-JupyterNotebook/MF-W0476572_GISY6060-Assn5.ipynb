{
 "cells": [
  {
   "cell_type": "markdown",
   "metadata": {},
   "source": [
    "# **Numbats in Australia**"
   ]
  },
  {
   "cell_type": "markdown",
   "metadata": {},
   "source": [
    "<img src=\"LocalImages/Numbat33.jpg\" alt= “Numbat” width=\"760\" height=\"500\">"
   ]
  },
  {
   "cell_type": "markdown",
   "metadata": {},
   "source": [
    "***Cover Image*: A Numbat standing in Perth Zoo, Western Australia in 2010 ([Image Source](https://commons.wikimedia.org/wiki/File:Numbat_Full_Standing.jpg), taken by Wikipedia user [Helenabella](https://commons.wikimedia.org/wiki/User:Helenabella), and used under [Creative Commons ShareAlike 3.0 Unported License (CC BY-SA 3.0](https://creativecommons.org/licenses/by-sa/3.0/))**"
   ]
  },
  {
   "cell_type": "markdown",
   "metadata": {},
   "source": [
    "## *Mohit Francis (W0476572) - GISY 6060: Assignment 5 - Putting it All Together*"
   ]
  },
  {
   "cell_type": "markdown",
   "metadata": {},
   "source": [
    "### Table of Contents"
   ]
  },
  {
   "cell_type": "markdown",
   "metadata": {},
   "source": [
    "* [Introduction](#section1)\n",
    "    * [Figure 1: A Numbat in Perth Zoo, Western Australia.](#section1a)\n",
    "    * [Figure 2: A Feral Cat in New South Wales, Australia.](#section1b)\n",
    "    * [Figure 3: A Red Fox Hiding in the Brush at Bieszczady, Poland.](#section1c)\n",
    "    * [Video 1: Saving Australia's Numbats - BBC News.](#section1d)\n",
    "    * [Video 2: Numbat Bouncing Back After More Than a Century of Extinction From NSW Wild | ABC Australia.](#section1e)\n",
    "    * [Import Libraries](#section1f)\n",
    "    * [Setup Workspace](#section1g)\n",
    "    * [Initialise Map Extent](#section1h)\n",
    "        * [Map 1: Australia: the area of interest](#section1hi)\n",
    "* [Acquire and Prepare Data](#section2)\n",
    "    * [Numbat Sightings in Australia](#section2a)\n",
    "        * [Table 1: The original *Numbats in Australia* data set.](#section2ai)\n",
    "    * [Zoo Locations in Australia](#section2b)\n",
    "    * [Terrestrial Protected Areas in Australia](#section2c)\n",
    "    * [Australia State and Territory Borders](#section2d)\n",
    "        * [Table 2: The first five rows of the *Australia State Boundaries* data set.](#section2di)\n",
    "* [Acquire Other Items of Interest via Web Scraping](#section3)\n",
    "    * [Web Scrape Images of Numbats and Other Related Images](#section3a)\n",
    "    * [Web Scrape Images of Feral Cats and Other Related Images](#section3b)\n",
    "    * [Web Scrape Images of Red Foxes and Other Related Images](#section3c)\n",
    "* [Examine Data](#section4)\n",
    "    * [Examine Numbat Data](#section4a)\n",
    "        * [Table 3: The attribute table of the *NumbatsFC* Feature Class.](#section4ai)\n",
    "    * [Examine Zoo Data](#section4b)\n",
    "        * [Table 4: The attribute table of the *AusZoosFC* Feature Class.](#section4bi)\n",
    "    * [Examine Protected Areas Data](#section4c)\n",
    "        * [Table 5: The attribute table of the *ProtectedAreasFC* Feature Class.](#section4ci)\n",
    "    * [Examine Australia State and Territory Borders Data](#section4d)\n",
    "        * [Table 6: The attribute table of the *AusBordersFC* Feature Class.](#section4di)\n",
    "* [Plot Initial Layers](#section5)\n",
    "    * [Map 2: Map with all initial layers plotted](#section5a)\n",
    "* [Data Analysis](#section6)\n",
    "    * [General Distribution of Numbats](#section6a)\n",
    "        * [Table 7: The results of the Summarize Within function, counting the number of numbats observed in each Australian state.](#section6ai)\n",
    "    * [Present Distribution of Numbats](#section6b)\n",
    "        * [Table 8: The attribute table of the *NumbatsFC* Feature Class, containing all recent numbat observations.](#section6bi)\n",
    "        * [Table 9: The results of the Summarize Within function, counting the number of recent numbat observations in each Australian state.](#section6bii)\n",
    "        * [Map 3: Recent numbat observations.](#section6biii)\n",
    "        * [Figure 4: Range of Numbats in Australia in 2010.](#section6biv)\n",
    "    * [Historical Distribution of Numbats](#section6c)\n",
    "        * [Table 10: The attribute table of the *NumbatsFC* Feature Class, containing all historical numbat observations.](#section6ci)\n",
    "        * [Table 11: The attribute table of the *NumbatsFC* Feature Class, containing all historical numbat observations in the wild.](#section6cii)\n",
    "        * [Map 4: Historical numbat observations.](#section6ciii)\n",
    "        * [Figure 5: Historical Range Map of the Numbat.](#section6civ)\n",
    "    * [Numbat Observations by Month](#section6d)\n",
    "        * [Table 12: Numbats observed in each month.](#section6di)\n",
    "        * [Figure 6: Bar chart of numbat observations by month.](#section6dii)\n",
    "        * [Map 5: Numbat observations coloured by month.](#section6diii)\n",
    "    * [Numbat Observations by Season](#section6e)\n",
    "        * [Table 13: Numbats observed in each month, with season labels assigned.](#section6ei)\n",
    "        * [Table 14: Numbats observed by season.](#section6eii)\n",
    "        * [Table 15: Numbats observed by season, with an extra column to make it easier to plot.](#section6eiii)\n",
    "        * [Figure 7: Bar chart of numbat observations by season.](#section6eiv)\n",
    "        * [Table 16: The attribute table of the *NumbatsFC* Feature Class, with season labels assigned to observations with known month values.](#section6ev)\n",
    "        * [Map 6: Numbat observations coloured by season.](#section6evi)\n",
    "    * [Numbat Observations by Day](#section6f)\n",
    "        * [Table 17: Numbat observations by day.](#section6fi)\n",
    "        * [Figure 8: Bar chart of numbat observations by day.](#section6fii)\n",
    "        * [Map 7: Numbat observations coloured by day.](#section6fiii)\n",
    "    * [Numbat Observations by Day Type (Weekday/Weekend)](#section6g)\n",
    "        * [Table 18: Numbat observations by day, with day type labels attached.](#section6gi)\n",
    "        * [Table 19: Numbat observations by day type.](#section6gii)\n",
    "        * [Figure 9: Bar chart of numbat observations by day type.](#section6giii)\n",
    "        * [Table 20: The attribute table of the *NumbatsFC* Feature Class, with day type labels assigned to observations with known day values.](#section6giv)\n",
    "        * [Map 8: Numbat observations coloured by day type.](#section6gv)\n",
    "    * [Numbat Observations by Time of Day](#section6h)\n",
    "        * [Table 21: Numbat observations by time of day (hours).](#section6hi)\n",
    "        * [Figure 10: Bar chart of numbat observations by time of day (hours).](#section6hii)\n",
    "        * [Table 22: The attribute table of the *NumbatsFC* Feature Class. Observations with known hour values are displayed.](#section6hiii)\n",
    "        * [Map 9: Numbat observations coloured by time of day (hours).](#section6hiv)\n",
    "    * [Numbat Observations on Sunny, Dry, Warm Days and Cloudy, Wet, Cold Days](#section6I)\n",
    "        * [Figure 11: Histogram of numbats observed at various precipiation levels.](#section6Ii)\n",
    "        * [Map 10: Numbat observations with known precipitation values.](#section6Iii)\n",
    "        * [Table 23: Descriptive statistics of numbat observations with known precipitation values.](#section6Iiii)\n",
    "        * [Table 24: Descriptive statistics of numbat observations with known maximum temperature values.](#section6Iiv)\n",
    "        * [Table 25: Descriptive statistics of numbat observations with known minimum temperature values.](#section6Iv)\n",
    "        * [Figure 12: Histogram of numbats observed in Dryandra Woodland National Park on days with recorded precipitation.](#section6Ivi)\n",
    "        * [Figure 13: Histogram of numbats observed in Dryandra Woodland National Park on days with recorded maximum temperature.](#section6Ivii)\n",
    "        * [Figure 14: Histogram of numbats observed in Dryandra Woodland National Park on days with recorded minimum temperature.](#section6Iviii)\n",
    "        * [Figure 15: Scatter and regression plot showing the relationship between minimum and maximum temperature at Dryandra Woodland National Park.](#section6Iix)\n",
    "        * [Figure 16: Scatter and regression plot showing the relationship between precipitation and maximum temperature at Dryandra Woodland National Park.](#section6Ix)\n",
    "        * [Figure 17: Scatter and regression plot showing the relationship between precipitation and minimum temperature at Dryandra Woodland National Park.](#section6Ixi)\n",
    "* [Discussion and Conclusion](#section7)\n",
    "* [References and Data Sources](#section8)"
   ]
  },
  {
   "cell_type": "markdown",
   "metadata": {},
   "source": [
    "### Introduction <a class=\"anchor\" id=\"section1\"></a>"
   ]
  },
  {
   "cell_type": "markdown",
   "metadata": {},
   "source": [
    "This notebook uses the spatially enabled [*Numbats in Australia*](https://raw.githubusercontent.com/rfordatascience/tidytuesday/master/data/2023/2023-03-07/numbats.csv) data set, posted on the [*R for Data Science: Tidy Tuesday*](https://github.com/rfordatascience/tidytuesday/blob/master/data/2023/2023-03-07/readme.md) on 07 March 2023, but sourced from the [Atlas of Living Australia](https://www.ala.org.au/), an open-source collection of Australia’s biodiversity data. *R for Data Science: Tidy Tuesday* is an online learning community which posts weekly data-science oriented challenges using the *R* programming language. Their challenges primarily revolve around tidying the data set of the week – usually collected from open-source repositories; mined by data-science enthusiasts; or provided by researchers. However, further analysis of the data is recommended as an additional learning exercise for beginner data scientists.\n",
    "\n",
    "[Numbats (*Myrmecobius fasciatus*)](https://bie.ala.org.au/species/https://biodiversity.org.au/afd/taxa/6c72d199-f0f1-44d3-8197-224a2f7cff5f#cite_note-iucn_status_12_November_2021-1) are insectivorous marsupials indigenous to Australia, subsisting on a diet consisting almost entirely of termites. They were once widely distributed across southern and Western Australia, but their numbers declined significantly due to non-native feral predators such as the European red fox (*Vulpes vulpes*) and the domestic cat (*Felis catus*). Estimates suggest there are fewer than 1000 numbat individuals in the wild and in zoos, meaning numbats are considered endangered species. Recent efforts to reintroduce them into their former habitats have seen some success, but continued success is dependant on whether numbats are protected from their introduced predators."
   ]
  },
  {
   "cell_type": "markdown",
   "metadata": {},
   "source": [
    "<img src=\"LocalImages/Numbat24.jpg\" alt= “Numbat” width=\"760\" height=\"500\">"
   ]
  },
  {
   "cell_type": "markdown",
   "metadata": {},
   "source": [
    "***Figure 1*: A Numbat in Perth Zoo, Western Australia ([Image Source](https://upload.wikimedia.org/wikipedia/commons/a/ac/Numbat_Face.jpg), taken by Wikipedia user [Helenabella](https://commons.wikimedia.org/wiki/User:Helenabella), and used under [Creative Commons ShareAlike 3.0 Unported License (CC BY-SA 3.0](https://creativecommons.org/licenses/by-sa/3.0/))**<a class=\"anchor\" id=\"section1a\"></a>"
   ]
  },
  {
   "cell_type": "markdown",
   "metadata": {},
   "source": [
    "<img src=\"LocalImages/Cat4.jpg\" alt= “Cat” width=\"760\" height=\"500\">"
   ]
  },
  {
   "cell_type": "markdown",
   "metadata": {},
   "source": [
    "***Figure 2*: A feral cat in New South Wales, Australia, looking at the photographer with its face of pure evil. ([Image Source](https://upload.wikimedia.org/wikipedia/commons/3/36/Feral_cat_%28Felis_catus%29.jpg), taken by Wikipedia user [SilverFinch5](https://commons.wikimedia.org/wiki/File:Feral_cat_(Felis_catus).jpg), and used under [Creative Commons ShareAlike 4.0 International License (CC BY-SA 4.0](https://creativecommons.org/licenses/by-sa/4.0/deed.en))**<a class=\"anchor\" id=\"section1b\"></a>"
   ]
  },
  {
   "cell_type": "markdown",
   "metadata": {},
   "source": [
    "<img src=\"LocalImages/RedFox20.jpg\" alt= “RedFox” width=\"760\" height=\"500\">"
   ]
  },
  {
   "cell_type": "markdown",
   "metadata": {},
   "source": [
    "***Figure 3*: A red fox hiding in the brush in Bieszczady, Poland, which must be very close to Australia. This fantastic fox is cunningly plotting acts of pure wanton evil. ([Image Source](https://upload.wikimedia.org/wikipedia/commons/4/43/02020_0070_Vulpes_vulpes_in_Bieszczady.jpg), taken by Wikipedia user [Silar](https://commons.wikimedia.org/wiki/User:Silar), and used under [Creative Commons ShareAlike 4.0 International License (CC BY-SA 4.0](https://creativecommons.org/licenses/by-sa/4.0/deed.en))**<a class=\"anchor\" id=\"section1c\"></a>"
   ]
  },
  {
   "cell_type": "markdown",
   "metadata": {},
   "source": [
    "The data set has been prepared and tidied, but in some cases, I perform some additional data tidying. The *R for Data Science: Tidy Tuesday*<sup>[2](#ref2)</sup> moderators posed the following questions, which I answer using maps and charts:\n",
    "\n",
    "- Where do you find numbats in Australia?\n",
    "- Was the distribution more widespread historically (excluding zoo reported observations)?\n",
    "- Are they more observed more frequently in the summer or winter?\n",
    "- Are numbats sighted more on sunny, dry, warm days than cloudy, wet, cold days?\n",
    "- Do sightings happen more on weekdays than weekends?\n",
    "- What time of day do numbat sightings occur?\n",
    "\n",
    "Since Python 3.x is the only programming language compatible with ArcGIS Notebook, all code is written in Python. Within this Notebook, I also web scrape images of numbats, foxes, and cats for inclusion within the Notebook, three of which you are linked above in Markdown cells using HTML syntax.\n",
    "\n",
    "For more information on numbats and efforts to conserve their populations, please click the following images to watch the linked YouTube videos. The YouTube videos will open in a new window within ArcGIS Pro.\n",
    "\n",
    "All references and sources are hyperlinked throughout the text, but are also listed at the end.\n",
    "\n",
    "**(Note: the original version of this used the *IPython.display.HTML* module to embed and display these YouTube videos, but due to immense difficulty in getting the module to consistently load and work, I am using this workaround instead.)**"
   ]
  },
  {
   "cell_type": "markdown",
   "metadata": {},
   "source": [
    "[![BBC News - Saving Australia's Numbats](http://img.youtube.com/vi/ks6cooYtr38/0.jpg)](http://www.youtube.com/watch?v=ks6cooYtr38 \"Saving Australia's numbats - BBC News\")"
   ]
  },
  {
   "cell_type": "markdown",
   "metadata": {},
   "source": [
    "***Video 1*: Saving Australia's numbats - BBC News ([Video Link](https://www.youtube.com/watch?v=ks6cooYtr38), 12 February 2021)**<a class=\"anchor\" id=\"section1d\"></a>"
   ]
  },
  {
   "cell_type": "markdown",
   "metadata": {},
   "source": [
    "[![ABC Australia - Numbat bouncing back after more than a century of extinction from NSW wild](http://img.youtube.com/vi/bzpvnebajCg/0.jpg)](https://www.youtube.com/watch?v=bzpvnebajCg \"Numbat bouncing back after more than a century of extinction from NSW wild | ABC Australia\") "
   ]
  },
  {
   "cell_type": "markdown",
   "metadata": {},
   "source": [
    "***Video 2*: Numbat bouncing back after more than a century of extinction from NSW wild | ABC Australia ([Video Link](https://www.youtube.com/watch?v=ks6cooYtr38), 04 December 2020)**<a class=\"anchor\" id=\"section1e\"></a>"
   ]
  },
  {
   "cell_type": "markdown",
   "metadata": {},
   "source": [
    "#### Import Libraries <a class=\"anchor\" id=\"section1f\"></a>"
   ]
  },
  {
   "cell_type": "markdown",
   "metadata": {},
   "source": [
    "I import the following libraries. My justification for importing each of the libraries is also included below."
   ]
  },
  {
   "cell_type": "code",
   "execution_count": null,
   "metadata": {},
   "outputs": [],
   "source": [
    "import arcpy # Main library for geoprocessing.\n",
    "\n",
    "from arcgis.gis import GIS # Accessing ArcGIS Online services, Portal, and mapping data.\n",
    "\n",
    "import pandas as pd # Viewing and plotting Spatially Enabled Data Frames.\n",
    "\n",
    "import seaborn as sns # Charting data from Spatially Enabled Data Frames.\n",
    "\n",
    "import matplotlib.pyplot as plt # Displaying charts.\n",
    "\n",
    "import bs4 as bs # Web Scraping Images and Text from URLs/Websites.\n",
    "\n",
    "import requests # Connecting to Websites from which data needs to be scraped.\n",
    "\n",
    "import urllib.request # For saving scraped images locally."
   ]
  },
  {
   "cell_type": "markdown",
   "metadata": {},
   "source": [
    "#### Setup Workspace<a class=\"anchor\" id=\"section1g\"></a>"
   ]
  },
  {
   "cell_type": "markdown",
   "metadata": {},
   "source": [
    "I set my workspace and environment settings, making sure that all outputs are overwritten and added to the map when code cells are executed. When I created and worked on this Notebook, I used the first file path (commented out). If you want to run this Notebook, I strongly recommend moving the *MF-W0476572_GISY6060_Assignment5* folder to the *C:\\temp* folder or another short file path instead. In any case, for submission, only the second, shorter workspace will be activated. Feel free to change this shorter file path to the location where you moved the submission."
   ]
  },
  {
   "cell_type": "code",
   "execution_count": null,
   "metadata": {},
   "outputs": [],
   "source": [
    "#workspace = r\"D:\\NSCC_COGS\\Winter\\GISY6060_Geoprocessing&Modelling\\Assignments\\5\\MF-W0476572_GISY6060-Assignment5\\MF-W0476572_GISY6060-Assn5.gdb\"\n",
    "\n",
    "workspace = r\"C:\\temp\\MF-W0476572_GISY6060-Assignment5\\MF-W0476572_GISY6060-Assn5.gdb\"\n",
    "\n",
    "arcpy.env.workspace = workspace\n",
    "\n",
    "arcpy.env.overwriteOutput = True\n",
    "\n",
    "arcpy.env.addOutputsToMap = True"
   ]
  },
  {
   "cell_type": "markdown",
   "metadata": {},
   "source": [
    "#### Initialise Map Extent<a class=\"anchor\" id=\"section1h\"></a>"
   ]
  },
  {
   "cell_type": "markdown",
   "metadata": {},
   "source": [
    "I log into the ArcGIS Pro and Online services using my credentials. I initialise a map widget and centre it on Australia. since this is where numbats are found. I also change the base map to a dark grey for aesthetic purposes."
   ]
  },
  {
   "cell_type": "code",
   "execution_count": null,
   "metadata": {},
   "outputs": [],
   "source": [
    "gis = GIS(\"home\")\n",
    "\n",
    "map1 = gis.map('Australia', zoomlevel = 3)\n",
    "\n",
    "map1.basemap = 'dark-gray-vector'\n",
    "\n",
    "map1"
   ]
  },
  {
   "cell_type": "markdown",
   "metadata": {},
   "source": [
    "***Map 1*: Australia: The area of interest.**<a class=\"anchor\" id=\"section1hi\"></a>"
   ]
  },
  {
   "cell_type": "markdown",
   "metadata": {},
   "source": [
    "### Acquire and Prepare Data<a class=\"anchor\" id=\"section2\"></a>"
   ]
  },
  {
   "cell_type": "markdown",
   "metadata": {},
   "source": [
    "#### Numbat Sightings in Australia<a class=\"anchor\" id=\"section2a\"></a>"
   ]
  },
  {
   "cell_type": "markdown",
   "metadata": {},
   "source": [
    "As mentioned before, the data is hosted on the *R for Data Science: Tidy Tuesday* GitHub in Comma Separated Values (.csv) format. I save a local copy of this file.\n",
    "\n",
    "The [data dictionary](https://github.com/rfordatascience/tidytuesday/blob/master/data/2023/2023-03-07/readme.md#data-dictionary) explains the following column names.\n",
    "\n",
    "Of the data, the following observations must be kept in mind:\n",
    "\n",
    "- The latitude and longitude values are in Decimal Degrees, but at this point, they are simply numbers. I have to combine and convert them into Point Geometry if I want to plot them on a map.\n",
    "- There are 805 records in this data set, but there are many missing values in this data. This missing data is preserved, but is ignored during plotting or analysis, depending on what is being plotted or analysed.\n",
    "- There are datetime stamps associated with many observations. These are likely accurate down to the day, but probably not to the hour. As noted in the *Introduction*, this Notebook includes some temporal analysis of the observation data, but I will not analyse time stamps.\n",
    "- The *dryandra* column refers to the [Dryandra Woodland National Park](https://exploreparks.dbca.wa.gov.au/park/dryandra-woodland-national-park) in the state of Western Australia, which contains over 50% of the current estimated population of numbats. The *dryandra* column contains boolean values (i.e. True, False, and also Null) - True values for numbats observed in Dryandra Woodland National Park; False values for numbats not observed in Dryandra Woodland National Park, i.e. most likely in zoos; Null values for observations for which this information is unknown.\n",
    "- Saving and using a local copy of this data set transforms all of the data types into text or string, e.g. the *decimalLatitude* is no longer in *Double* format, but is now *Text*. This is dealt with as needed."
   ]
  },
  {
   "cell_type": "markdown",
   "metadata": {},
   "source": [
    "***Table 1*: The original *Numbats in Australia* data set hosted on the *R for Data Science: Tidy Tuesday* GitHub.**<a class=\"anchor\" id=\"section2ai\"></a>"
   ]
  },
  {
   "cell_type": "code",
   "execution_count": null,
   "metadata": {},
   "outputs": [],
   "source": [
    "url = \"https://raw.githubusercontent.com/rfordatascience/tidytuesday/master/data/2023/2023-03-07/numbats.csv\"\n",
    "\n",
    "df = pd.read_csv(url)\n",
    "\n",
    "df"
   ]
  },
  {
   "cell_type": "code",
   "execution_count": null,
   "metadata": {},
   "outputs": [],
   "source": [
    "#filepath = r'D:\\NSCC_COGS\\Winter\\GISY6060_Geoprocessing&Modelling\\Assignments\\5\\MF-W0476572_GISY6060-Assignment5\\LocalData\\Numbats.csv'\n",
    "\n",
    "filepath = r'C:\\temp\\MF-W0476572_GISY6060-Assignment5\\LocalData\\Numbats.csv'\n",
    "\n",
    "df.to_csv(filepath)"
   ]
  },
  {
   "cell_type": "markdown",
   "metadata": {},
   "source": [
    "I take the locally saved CSV copy of the data set and import into the File Geodatabase (.gdb) of this ArcGIS Pro project, meaning it is now saved as a Standalone Table.\n",
    "\n",
    "Technically speaking, I did not have to use the local copy for this step - I could have just used the CSV file hosted on the GitHub, but I chose to do it this way instead."
   ]
  },
  {
   "cell_type": "code",
   "execution_count": null,
   "metadata": {},
   "outputs": [],
   "source": [
    "in_table = 'LocalData//Numbats.csv'\n",
    "outputGDB = \"MF-W0476572_GISY6060-Assn5.gdb\"\n",
    "outputTableName = \"NumbatsTable\"\n",
    "\n",
    "arcpy.TableToTable_conversion(in_table,\n",
    "                              outputGDB,\n",
    "                              outputTableName)"
   ]
  },
  {
   "cell_type": "markdown",
   "metadata": {},
   "source": [
    "Finally, I take the values in the *decimalLongitude* and *decimalLatitude* columns of the standalone table, and create Point Geometry from them. In doing this, a Point Feature Class is created and added to the File Geodatabase."
   ]
  },
  {
   "cell_type": "code",
   "execution_count": null,
   "metadata": {},
   "outputs": [],
   "source": [
    "arcpy.management.ConvertCoordinateNotation('NumbatsTable',\n",
    "                                           'NumbatsFC',\n",
    "                                           'decimalLongitude',\n",
    "                                           'decimalLatitude',\n",
    "                                           'DD_2',\n",
    "                                           'DD_1')"
   ]
  },
  {
   "cell_type": "markdown",
   "metadata": {},
   "source": [
    "####  Zoo Locations in Australia<a class=\"anchor\" id=\"section2b\"></a>"
   ]
  },
  {
   "cell_type": "markdown",
   "metadata": {},
   "source": [
    "The locations of zoos in Australia are sourced from a [user created custom map](https://www.google.com/maps/d/viewer?mid=1gZfkwO9Bo_hZalXZ_Gv1jC9TNWw&hl=en&ll=-32.42988895106844%2C144.9433406890317&z=5) in Google Maps. I downloaded the Keyhole Markup Language (KML) file containing this information and saved it to the */LocalData* directory. [KML](https://developers.google.com/kml) is the file format which Google Maps and Google Earth use for expressing and visualising geographic annotation within two-dimensional maps and three-dimensional Earth browsers. \n",
    "\n",
    "Next, I convert the points in the KML file to a layer so that I can import and use it in my Notebook. However, the outputs of the conversion are a Layer File (.lyrx) and a separate File Geodatabase."
   ]
  },
  {
   "cell_type": "code",
   "execution_count": null,
   "metadata": {},
   "outputs": [],
   "source": [
    "inputKML = 'LocalData//Australian zoos.kml'\n",
    "output = 'LocalData'\n",
    "outputName = 'AustraliaZoos' # Two outputs are created: a layer file (.lyrx) and a geodatabase (.gdb).\n",
    "\n",
    "arcpy.conversion.KMLToLayer(inputKML,\n",
    "                            output,\n",
    "                            outputName)"
   ]
  },
  {
   "cell_type": "markdown",
   "metadata": {},
   "source": [
    "Because the layer is not added to my File Geodatabase, I copy the layer from its saved File Geodatabase and import it into the project File Geodatabase.\n",
    "\n",
    "The final layer of Zoo Locations is only plotted for visual interest, no real analysis is performed using these locations due to certain limitations of the data set, which will become apparent later."
   ]
  },
  {
   "cell_type": "code",
   "execution_count": null,
   "metadata": {},
   "outputs": [],
   "source": [
    "in_features = 'LocalData//AustraliaZoos.gdb//Placemarks//Points'\n",
    "out_feature_class = \"MF-W0476572_GISY6060-Assn5.gdb//AusZoosFC\"\n",
    "\n",
    "arcpy.management.CopyFeatures(in_features,\n",
    "                              out_feature_class)"
   ]
  },
  {
   "cell_type": "markdown",
   "metadata": {},
   "source": [
    "#### Protected Areas in Australia<a class=\"anchor\" id=\"section2c\"></a>"
   ]
  },
  {
   "cell_type": "markdown",
   "metadata": {},
   "source": [
    "I also wanted to plot [Terrestrial Protected Areas in Australia](https://www.environment.gov.au/fed/catalog/search/resource/details.page?uuid=%7B4448CACD-9DA8-43D1-A48F-48149FD5FCFD%7D). This is Open Geospatial Data made publicly available by the Government of Australia, Department of Climate Change, Energy, the Environment and Water, under the [Creative Commons License](https://creativecommons.org/licenses/).\n",
    "\n",
    "This data is packaged in a File Geodatabase. I simply downloaded and saved the File Geodatabase to the */LocalData* directory, and I copied the features over to the project File Geodatabase.\n",
    "\n",
    "Unfortunately, this data is pretty hefty. I initially wanted to overlay the locations of numbats over these protected areas in order to determine the proportion of numbat observations which fall within protected areas, but I could not plot this data because it takes a long time to load, and it crashes the Notebook. If you are feeling brave, there is a code cell which plots this data. You have been warned. "
   ]
  },
  {
   "cell_type": "code",
   "execution_count": null,
   "metadata": {},
   "outputs": [],
   "source": [
    "in_features = 'LocalData//CAPAD2020_terrestrial.gdb//CAPAD2020_terrestrial'\n",
    "out_feature_class = \"MF-W0476572_GISY6060-Assn5.gdb//ProtectedAreasFC\"\n",
    "\n",
    "arcpy.management.CopyFeatures(in_features,\n",
    "                              out_feature_class)"
   ]
  },
  {
   "cell_type": "markdown",
   "metadata": {},
   "source": [
    "#### Australia State and Territory Borders<a class=\"anchor\" id=\"section2d\"></a>"
   ]
  },
  {
   "cell_type": "markdown",
   "metadata": {},
   "source": [
    "[Australian State and Territory Borders](https://www.arcgis.com/home/item.html?id=7f46184d4f6042048d852805bc40bce2) are necessary for contextualising the distribution of numbats within Australia, a country I am not familiar with.\n",
    "\n",
    "Accessing this data is simple enough, since it is stored in an ArcGIS Feature Server. This data also includes demographic data, but I am not interested in this, only the Borders. This data is also saved in my File Geodatabase."
   ]
  },
  {
   "cell_type": "code",
   "execution_count": null,
   "metadata": {},
   "outputs": [],
   "source": [
    "AusBorders = gis.content.get('7f46184d4f6042048d852805bc40bce2')\n",
    "\n",
    "AusBorders"
   ]
  },
  {
   "cell_type": "markdown",
   "metadata": {},
   "source": [
    "***Table 2*: The first five rows of the *Australia State Boundaries* data set acquired from an ArcGIS Feature Server** <a class=\"anchor\" id=\"section2di\"></a>"
   ]
  },
  {
   "cell_type": "code",
   "execution_count": null,
   "metadata": {},
   "outputs": [],
   "source": [
    "AusBordersLayer = AusBorders.layers[2]\n",
    "\n",
    "AusBordersDF = pd.DataFrame.spatial.from_layer(AusBordersLayer)\n",
    "\n",
    "AusBordersDF.head()"
   ]
  },
  {
   "cell_type": "code",
   "execution_count": null,
   "metadata": {},
   "outputs": [],
   "source": [
    "AusBordersDF.spatial.to_featureclass('MF-W0476572_GISY6060-Assn5.gdb\\AusBordersFC')"
   ]
  },
  {
   "cell_type": "markdown",
   "metadata": {},
   "source": [
    "### Acquire Other Items of Interest via Web Scraping<a class=\"anchor\" id=\"section3\"></a>"
   ]
  },
  {
   "cell_type": "markdown",
   "metadata": {},
   "source": [
    "I also web scrape relevant images of numbats, cats, and red foxes from *[Wikimedia Commons](https://commons.wikimedia.org/wiki/Main_Page)*. The initial web scraping returns a list of all image paths returned during species-specific searches of *Wikimedia Commons*. I store these image paths in a list. I iterate through the list and save these images locally in the */LocalImages* directory using a species-specific naming convention."
   ]
  },
  {
   "cell_type": "markdown",
   "metadata": {},
   "source": [
    "#### Web Scrape Images of Numbats and Other Related Images<a class=\"anchor\" id=\"section3a\"></a>"
   ]
  },
  {
   "cell_type": "code",
   "execution_count": null,
   "metadata": {},
   "outputs": [],
   "source": [
    "def getdata(url): \n",
    "    r = requests.get(url) \n",
    "    return r.text \n",
    "\n",
    "animal = 'numbat'\n",
    "search = 'numbat'\n",
    "\n",
    "htmldata = getdata(\"https://commons.wikimedia.org/w/index.php?search=\" + search + \"&title=Special:MediaSearch&go=Go&type=image\") \n",
    "soup = bs.BeautifulSoup(htmldata, 'html.parser')\n",
    "\n",
    "listImages = []\n",
    "for item in soup.find_all('img'):\n",
    "    listImages.append(item['src'])\n",
    "\n",
    "#filepath = 'D:/NSCC_COGS/Winter/GISY6060_Geoprocessing&Modelling/Assignments/5/MF-W0476572_GISY6060-Assignment5/LocalImages/'\n",
    "filepath = 'C:/temp/MF-W0476572_GISY6060-Assignment5/LocalImages/'\n",
    "\n",
    "count = 0\n",
    "for img in listImages:\n",
    "    if 'https://' in img:\n",
    "        urllib.request.urlretrieve(img,\n",
    "                           filepath + animal + str(count) + '.jpg')\n",
    "        count += 1"
   ]
  },
  {
   "cell_type": "markdown",
   "metadata": {},
   "source": [
    "#### Web Scrape Images of Feral Cats and Other Related Images<a class=\"anchor\" id=\"section3b\"></a>"
   ]
  },
  {
   "cell_type": "code",
   "execution_count": null,
   "metadata": {},
   "outputs": [],
   "source": [
    "def getdata(url): \n",
    "    r = requests.get(url) \n",
    "    return r.text \n",
    "\n",
    "animal = 'cat'\n",
    "search = 'feral cats australia'\n",
    "search = search.replace(' ', '+')\n",
    "\n",
    "htmldata = getdata(\"https://commons.wikimedia.org/w/index.php?search=\" + search + \"&title=Special:MediaSearch&go=Go&type=image\") \n",
    "soup = bs.BeautifulSoup(htmldata, 'html.parser')\n",
    "\n",
    "listImages = []\n",
    "for item in soup.find_all('img'):\n",
    "    listImages.append(item['src'])\n",
    "\n",
    "#filepath = 'D:/NSCC_COGS/Winter/GISY6060_Geoprocessing&Modelling/Assignments/5/MF-W0476572_GISY6060-Assignment5/LocalImages/'\n",
    "filepath = 'C:/temp/MF-W0476572_GISY6060-Assignment5/LocalImages/'\n",
    "\n",
    "count = 0\n",
    "for img in listImages:\n",
    "    if 'https://' in img:\n",
    "        urllib.request.urlretrieve(img,\n",
    "                           filepath + animal + str(count) + '.jpg')\n",
    "        count += 1"
   ]
  },
  {
   "cell_type": "markdown",
   "metadata": {},
   "source": [
    "#### Web Scrape Images of Foxes and Other Related Images<a class=\"anchor\" id=\"section3c\"></a>"
   ]
  },
  {
   "cell_type": "code",
   "execution_count": null,
   "metadata": {},
   "outputs": [],
   "source": [
    "def getdata(url): \n",
    "    r = requests.get(url) \n",
    "    return r.text \n",
    "\n",
    "animal = 'RedFox'\n",
    "search = 'red fox'\n",
    "search = search.replace(' ', '+')\n",
    "\n",
    "htmldata = getdata(\"https://commons.wikimedia.org/w/index.php?search=\" + search + \"&title=Special:MediaSearch&go=Go&type=image\") \n",
    "soup = bs.BeautifulSoup(htmldata, 'html.parser')\n",
    "\n",
    "listImages = []\n",
    "for item in soup.find_all('img'):\n",
    "    listImages.append(item['src'])\n",
    "\n",
    "#filepath = 'D:/NSCC_COGS/Winter/GISY6060_Geoprocessing&Modelling/Assignments/5/MF-W0476572_GISY6060-Assignment5/LocalImages/'\n",
    "filepath = 'C:/temp/MF-W0476572_GISY6060-Assignment5/LocalImages/'\n",
    "\n",
    "count = 0\n",
    "for img in listImages:\n",
    "    if 'https://' in img:\n",
    "        urllib.request.urlretrieve(img,\n",
    "                           filepath + animal + str(count) + '.jpg')\n",
    "        count += 1"
   ]
  },
  {
   "cell_type": "markdown",
   "metadata": {},
   "source": [
    "### Examine Data<a class=\"anchor\" id=\"section4\"></a>"
   ]
  },
  {
   "cell_type": "markdown",
   "metadata": {},
   "source": [
    "After collecting everything I need, I examine my data."
   ]
  },
  {
   "cell_type": "markdown",
   "metadata": {},
   "source": [
    "#### Examine Numbat Data<a class=\"anchor\" id=\"section4a\"></a>"
   ]
  },
  {
   "cell_type": "markdown",
   "metadata": {},
   "source": [
    "There are new fields in the attribute table of the Feature Class, now that it is spatially enabled and contains Point Geometry. Otherwise, the data is the same as before."
   ]
  },
  {
   "cell_type": "markdown",
   "metadata": {},
   "source": [
    "***Table 3*: The attribute table of the *NumbatsFC* Feature Class.**<a class=\"anchor\" id=\"section4ai\"></a>"
   ]
  },
  {
   "cell_type": "code",
   "execution_count": null,
   "metadata": {},
   "outputs": [],
   "source": [
    "NumbatsDF = pd.DataFrame.spatial.from_featureclass(\"NumbatsFC\")\n",
    "\n",
    "NumbatsDF.head()"
   ]
  },
  {
   "cell_type": "markdown",
   "metadata": {},
   "source": [
    "#### Examine Zoo Data<a class=\"anchor\" id=\"section4b\"></a>"
   ]
  },
  {
   "cell_type": "markdown",
   "metadata": {},
   "source": [
    "The most relevant fields in this data set are the *Name* and the *SHAPE* fields. However, since this layer is only for visual interest, I do not need to process this data any further."
   ]
  },
  {
   "cell_type": "markdown",
   "metadata": {},
   "source": [
    "***Table 4*: The attribute table of the *AusZoosFC* Feature Class.**<a class=\"anchor\" id=\"section4bi\"></a>"
   ]
  },
  {
   "cell_type": "code",
   "execution_count": null,
   "metadata": {},
   "outputs": [],
   "source": [
    "AusZoosDF = pd.DataFrame.spatial.from_featureclass(\"AusZoosFC\")\n",
    "AusZoosDF.head()"
   ]
  },
  {
   "cell_type": "markdown",
   "metadata": {},
   "source": [
    "#### Examine Protected Areas Data<a class=\"anchor\" id=\"section4c\"></a>"
   ]
  },
  {
   "cell_type": "markdown",
   "metadata": {},
   "source": [
    "This data set is incredibly detailed, containing the locations of the many different types of terrestrial protected areas in Australia. The [data dictionary](https://www.environment.gov.au/fed/catalog/search/resource/details.page?uuid=%7B4448CACD-9DA8-43D1-A48F-48149FD5FCFD%7D) explains many of these column types. Because of the size of this data set, and how similarly named many of the protected areas are, it was difficult to properly filter this data set down to a more manageable size - I was not sure which protected areas are relevant. Instead, I tried plotting everything, but again, this is not a good idea."
   ]
  },
  {
   "cell_type": "markdown",
   "metadata": {},
   "source": [
    "***Table 5*: The attribute table of the *ProtectedAreasFC* Feature Class.**<a class=\"anchor\" id=\"section4ci\"></a>"
   ]
  },
  {
   "cell_type": "code",
   "execution_count": null,
   "metadata": {},
   "outputs": [],
   "source": [
    "ProtectedAreasDF = pd.DataFrame.spatial.from_featureclass(\"ProtectedAreasFC\")\n",
    "\n",
    "ProtectedAreasDF.head()"
   ]
  },
  {
   "cell_type": "markdown",
   "metadata": {},
   "source": [
    "#### Examine Australia State and Territory Borders Data<a class=\"anchor\" id=\"section4d\"></a>"
   ]
  },
  {
   "cell_type": "markdown",
   "metadata": {},
   "source": [
    "The most relevant fields in this data set are the *name* and *SHAPE* fields. However, this data is only for contextualisation."
   ]
  },
  {
   "cell_type": "markdown",
   "metadata": {},
   "source": [
    "***Table 6*: The attribute table of the *AusBordersFC* Feature Class.**<a class=\"anchor\" id=\"section4di\"></a>"
   ]
  },
  {
   "cell_type": "code",
   "execution_count": null,
   "metadata": {},
   "outputs": [],
   "source": [
    "AusBordersDF = pd.DataFrame.spatial.from_featureclass(\"AusBordersFC\")\n",
    "\n",
    "AusBordersDF.head()"
   ]
  },
  {
   "cell_type": "markdown",
   "metadata": {},
   "source": [
    "### Plot Initial Layers<a class=\"anchor\" id=\"section5\"></a>"
   ]
  },
  {
   "cell_type": "markdown",
   "metadata": {},
   "source": [
    "I initialise a new map and plot all of the data sets except the protected areas. The red lines are the state borders. The orange crosses are the locations for all numbat observations for which location data is available. The blue dots are the locations of zoos in Australia.\n",
    "\n",
    "Note: I plotted the state borders using different syntax because this was the only way to plot the state polygons with no fill."
   ]
  },
  {
   "cell_type": "code",
   "execution_count": null,
   "metadata": {},
   "outputs": [],
   "source": [
    "map2 = gis.map('Australia', zoomlevel = 3)\n",
    "\n",
    "map2.basemap = 'dark-gray-vector'\n",
    "\n",
    "NumbatsDF.spatial.plot(map_widget = map2,\n",
    "                            renderer_type='s', # s - for single value\n",
    "                            symbol_type='simple',\n",
    "                            symbol_style='x', # x - for crosses\n",
    "                            colors='Oranges_r',\n",
    "                            outline_color='Oranges',\n",
    "                            marker_size=10\n",
    "                       )\n",
    "\n",
    "AusZoosDF.spatial.plot(map_widget = map2,\n",
    "                            renderer_type='s',\n",
    "                            symbol_style='o', # d - for diamonds\n",
    "                            colors='Blues_r',\n",
    "                            outline_color='Blues_r',\n",
    "                            marker_size=3)\n",
    "\n",
    "sym_borders = {\n",
    "  \"type\": \"esriSFS\",\n",
    "  \"style\": \"esriSFSSolid\",\n",
    "  \"color\": [0,0,0,0],  # hollow, no fill\n",
    "    \"outline\": {\n",
    "     \"type\": \"esriSLS\",\n",
    "     \"style\": \"esriSLSSolid\",\n",
    "     \"color\": [255,0,0,255],  # red border\n",
    "     \"width\": 1}\n",
    "}\n",
    "\n",
    "\n",
    "\n",
    "for val in AusBordersDF['SHAPE']:\n",
    "    map2.draw(val, symbol = sym_borders)\n",
    "    \n",
    "map2.legend = True\n",
    "\n",
    "map2"
   ]
  },
  {
   "cell_type": "markdown",
   "metadata": {},
   "source": [
    "***Map 2*: Map with all initial layers plotted.**<a class=\"anchor\" id=\"section5a\"></a>"
   ]
  },
  {
   "cell_type": "code",
   "execution_count": null,
   "metadata": {},
   "outputs": [],
   "source": [
    "## Warning: If you are prepared to age several decades, the following snippet may be uncommented and also run.\n",
    "\n",
    "# ProtectedAreasDF.spatial.plot(map_widget = map2#,\n",
    "#                            renderer_type='u',\n",
    "#                            symbol_type='simple',\n",
    "#                            colors='Greens',\n",
    "#                            outline_color='Greens'\n",
    "#                      )"
   ]
  },
  {
   "cell_type": "markdown",
   "metadata": {},
   "source": [
    "### Data Analysis<a class=\"anchor\" id=\"section6\"></a>"
   ]
  },
  {
   "cell_type": "markdown",
   "metadata": {},
   "source": [
    "Once the layers have been displayed, the analysis of the Numbat data can begin."
   ]
  },
  {
   "cell_type": "markdown",
   "metadata": {},
   "source": [
    "#### General Distribution of Numbats<a class=\"anchor\" id=\"section6a\"></a>"
   ]
  },
  {
   "cell_type": "markdown",
   "metadata": {},
   "source": [
    "The very first question to ask is: where are numbats found in Australia, generally speaking?\n",
    "\n",
    "Answering this question is straightforward: count the number of numbat observations in the data set within each Australian State or Territory, which can be easily accomplished using the Summarise Within tool. The tool outputs the summarised counts to a new feature class I call *NumbatBordersCountFC*."
   ]
  },
  {
   "cell_type": "code",
   "execution_count": null,
   "metadata": {},
   "outputs": [],
   "source": [
    "in_polygons = 'AusBordersFC'\n",
    "in_sum_features = 'NumbatsFC'\n",
    "out_feature_class = 'NumbatBordersCountFC'\n",
    "\n",
    "arcpy.analysis.SummarizeWithin(in_polygons,\n",
    "                               in_sum_features,\n",
    "                               out_feature_class)"
   ]
  },
  {
   "cell_type": "markdown",
   "metadata": {},
   "source": [
    "The vast majority of numbats in this data set are observed in three states: South Australia (277), Western Australia (231), and New South Wales (207). This can also be confirmed by checking the map.\n",
    "\n",
    "The populations of numbats are concentrated within one or two small areas in New South Wales and South Australia. The same pattern is observed in Western Australia, but numbats in Western Australia are much more dispersed compared to their counterparts in New South Wales and South Australia. This is obvious when looking at the map."
   ]
  },
  {
   "cell_type": "markdown",
   "metadata": {},
   "source": [
    "***Table 7*: The results of the Summarize Within function, counting the number of numbats observed in each Australian state.**<a class=\"anchor\" id=\"section6ai\"></a>"
   ]
  },
  {
   "cell_type": "code",
   "execution_count": null,
   "metadata": {},
   "outputs": [],
   "source": [
    "AllCountWithinDF = pd.DataFrame.spatial.from_featureclass(\"NumbatBordersCountFC\")\n",
    "\n",
    "AllCountWithinDF.sort_values(by=['Point_Count'], inplace=True, ascending=False)\n",
    "AllCountWithinDF[['name', 'Point_Count']]"
   ]
  },
  {
   "cell_type": "markdown",
   "metadata": {},
   "source": [
    "#### Present Distribution of Numbats<a class=\"anchor\" id=\"section6b\"></a>"
   ]
  },
  {
   "cell_type": "markdown",
   "metadata": {},
   "source": [
    "Unfortunately, many observations are missing date time stamps. Once these observations are excluded, there is enough *current* data to utilise - 539 records out of the 805 in this data set.\n",
    "\n",
    "I arbitrarily define current distribution as the distribution of numbat observations from the year 2000 and onwards.\n",
    "\n",
    "I query the data using my definition, and I create a new Feature Class called *CurrentNumbatsFC*."
   ]
  },
  {
   "cell_type": "markdown",
   "metadata": {},
   "source": [
    "***Table 8*: The attribute table of the *NumbatsFC* Feature Class containing all numbat observations recorded in the year 2000 and after.**<a class=\"anchor\" id=\"section6bi\"></a>"
   ]
  },
  {
   "cell_type": "code",
   "execution_count": null,
   "metadata": {},
   "outputs": [],
   "source": [
    "NumbatsDF = pd.DataFrame.spatial.from_featureclass(\"NumbatsFC\")\n",
    "\n",
    "pd.set_option('display.max_rows', None)\n",
    "\n",
    "NumbatsDF.sort_values(by=['year'], inplace=True, ascending=True)\n",
    "\n",
    "currNumbats = NumbatsDF.query('year>=2000')\n",
    "\n",
    "currNumbats"
   ]
  },
  {
   "cell_type": "code",
   "execution_count": null,
   "metadata": {},
   "outputs": [],
   "source": [
    "selCurrentNumbats = arcpy.management.SelectLayerByAttribute(\"NumbatsFC\",\n",
    "                                                             \"NEW_SELECTION\",\n",
    "                                                             \"year >= 2000\")\n",
    "\n",
    "arcpy.CopyFeatures_management(selCurrentNumbats, \"CurrentNumbatsFC\")"
   ]
  },
  {
   "cell_type": "markdown",
   "metadata": {},
   "source": [
    "Once again, I count the number of numbat observations in the data set within each Australian State or Territory using the Summarise Within tool. The tool outputs the summarised counts to a new feature class I call *CurrentNumbatBordersCountFC*."
   ]
  },
  {
   "cell_type": "code",
   "execution_count": null,
   "metadata": {},
   "outputs": [],
   "source": [
    "in_polygons = 'AusBordersFC'\n",
    "in_sum_features = 'CurrentNumbatsFC'\n",
    "out_feature_class = 'CurrentNumbatBordersCountFC'\n",
    "\n",
    "arcpy.analysis.SummarizeWithin(in_polygons,\n",
    "                               in_sum_features,\n",
    "                               out_feature_class)"
   ]
  },
  {
   "cell_type": "markdown",
   "metadata": {},
   "source": [
    "The vast majority of numbat observations in South Australia and New South Wales have occurred this century - 259 out of 277 total in South Australia, and 205 out of 207 total in New South Wales, respectively. In contrast, the vast majority of the numbat observations in Western Australia occurred in the past, i.e., (231 - 65) out of 231 total, but I will confirm this in the next section. Numbats have not been observed in Victoria or Northern Territory this century."
   ]
  },
  {
   "cell_type": "markdown",
   "metadata": {},
   "source": [
    "***Table 9*: The results of the Summarize Within function, counting all recent numbat observations in each Australian state.**<a class=\"anchor\" id=\"section6bii\"></a>"
   ]
  },
  {
   "cell_type": "code",
   "execution_count": null,
   "metadata": {},
   "outputs": [],
   "source": [
    "CurrCountWithinDF = pd.DataFrame.spatial.from_featureclass(\"CurrentNumbatBordersCountFC\")\n",
    "\n",
    "CurrCountWithinDF.sort_values(by=['Point_Count'], inplace=True, ascending=False)\n",
    "CurrCountWithinDF[['name', 'Point_Count']]"
   ]
  },
  {
   "cell_type": "markdown",
   "metadata": {},
   "source": [
    "I plot this newly created Feature Class on another map.\n",
    "\n",
    "There is very little overlap between zoo locations (green) and the locations of recent numbat observations (blue). Considering how these observations are concentrated in a few areas, numbats have most likely been recently sighted in protected areas of some kind. If only this Notebook wouldn't crash when I plot the protected areas..."
   ]
  },
  {
   "cell_type": "code",
   "execution_count": null,
   "metadata": {},
   "outputs": [],
   "source": [
    "map3 = gis.map('Australia', zoomlevel = 3)\n",
    "\n",
    "map3.basemap = 'dark-gray-vector'\n",
    "\n",
    "CurrentNumbatsDF = pd.DataFrame.spatial.from_featureclass(\"CurrentNumbatsFC\")\n",
    "\n",
    "CurrentNumbatsDF.spatial.plot(map_widget = map3,\n",
    "                            renderer_type='s', # s - for single value\n",
    "                            symbol_type='simple',\n",
    "                            symbol_style='x', # x - for crosses\n",
    "                            colors='Blues',\n",
    "                            outline_color='Blues',\n",
    "                            marker_size=10\n",
    "                       )\n",
    "\n",
    "AusZoosDF.spatial.plot(map_widget = map3,\n",
    "                            renderer_type='s',\n",
    "                            symbol_style='o', # d - for diamonds\n",
    "                            colors='Greens_r',\n",
    "                            outline_color='Greens_r',\n",
    "                            marker_size=3)\n",
    "\n",
    "\n",
    "sym_borders = {\n",
    "  \"type\": \"esriSFS\",\n",
    "  \"style\": \"esriSFSSolid\",\n",
    "  \"color\": [0,0,0,0],  # hollow, no fill\n",
    "    \"outline\": {\n",
    "     \"type\": \"esriSLS\",\n",
    "     \"style\": \"esriSLSSolid\",\n",
    "     \"color\": [255,0,0,255],  # red border\n",
    "     \"width\": 1}\n",
    "}\n",
    "\n",
    "for val in AusBordersDF['SHAPE']:\n",
    "    map3.draw(val, symbol = sym_borders)\n",
    "\n",
    "map3"
   ]
  },
  {
   "cell_type": "markdown",
   "metadata": {},
   "source": [
    "***Map 3*: Recent numbat observations. Other layers are also plotted.**<a class=\"anchor\" id=\"section6biii\"></a>"
   ]
  },
  {
   "cell_type": "markdown",
   "metadata": {},
   "source": [
    "My plot somewhat matches the current known distribution of numbats in Australia. The image is pixelated, but the green areas are the remaining native areas where numbats are naturally found; the pink areas are areas where numbats have been reintroduced. There are some differences though: the population in Central Southern Australia is not listed on the known map, but an additional population of numbats is found in Western Australia."
   ]
  },
  {
   "cell_type": "markdown",
   "metadata": {},
   "source": [
    "<img src=\"LocalImages/Numbat23.jpg\" alt= “CurrentNumbatDistribution” width=\"456\" height=\"300\">"
   ]
  },
  {
   "cell_type": "markdown",
   "metadata": {},
   "source": [
    "***Figure 4*: Range of numbats in Australia in 2010. Green areas are areas where numbats are still natively found; pink areas are areas where numbats have been reintroduced. ([Image Source](https://upload.wikimedia.org/wikipedia/commons/a/a2/Numbat_area.png), produced by Wikipedia user [Chermundy](https://commons.wikimedia.org/wiki/File:Numbat_area.png), and used under [Creative Commons ShareAlike 3.0 Unported License (CC BY-SA 3.0](https://creativecommons.org/licenses/by-sa/3.0/))**<a class=\"anchor\" id=\"section6biv\"></a>"
   ]
  },
  {
   "cell_type": "markdown",
   "metadata": {},
   "source": [
    "#### Historical Distribution of Numbats<a class=\"anchor\" id=\"section6c\"></a>"
   ]
  },
  {
   "cell_type": "markdown",
   "metadata": {},
   "source": [
    "Unfortunately, many observations are missing date and time stamps. There is not enough 'historical' data to utilise, but I still investigate the data regardless.\n",
    "\n",
    "Because of how I defined the current distribution of numbats, I arbitrarily define historical distribution as the distribution of numbats up to, but not including, the year 2000.\n",
    "\n",
    "There are thirteen historical observations in this data set. However, five observations do not have spatial data associated with them. This leaves eight historical observations which I can plot on the map."
   ]
  },
  {
   "cell_type": "markdown",
   "metadata": {},
   "source": [
    "***Table 10*: The attribute table of the *NumbatsFC* Feature Class, showing numbat observations recorded before the year 2000.**<a class=\"anchor\" id=\"section6ci\"></a>"
   ]
  },
  {
   "cell_type": "code",
   "execution_count": null,
   "metadata": {},
   "outputs": [],
   "source": [
    "HistNumbats = NumbatsDF.query(\"year<2000\")\n",
    "\n",
    "HistNumbats"
   ]
  },
  {
   "cell_type": "markdown",
   "metadata": {},
   "source": [
    "I am supposed to exclude numbats observed in zoos - the data set contains the *dryandra* column, which refers to whether a numbat was observed in [Dryandra Woodland National Park](https://www.environment.gov.au/cgi-bin/ahdb/search.pl?mode=place_detail;place_id=9928), located in Western Australia southeast of Perth. However, if historical numbat zoo observations are excluded, I would only be left with two records to plot.\n",
    "\n",
    "Unfortunately, this means there are a lot of undated observations, especially for numbats observed in Western Australia, meaning the general pattern of numbat distribution observed in the previous section cannot be determined."
   ]
  },
  {
   "cell_type": "markdown",
   "metadata": {},
   "source": [
    "***Table 11*: The attribute table of the *NumbatsFC* Feature Class, showing numbats observed in the wild, where dates of observation have been recorded.**<a class=\"anchor\" id=\"section6cii\"></a>"
   ]
  },
  {
   "cell_type": "code",
   "execution_count": null,
   "metadata": {},
   "outputs": [],
   "source": [
    "NumbatsDF = pd.DataFrame.spatial.from_featureclass(\"NumbatsFC\")\n",
    "\n",
    "DryNumbats = NumbatsDF.query(\"dryandra=='True' and year<2000\")\n",
    "\n",
    "DryNumbats"
   ]
  },
  {
   "cell_type": "markdown",
   "metadata": {},
   "source": [
    "Therefore, I include the zoo-related observations in my selection and plot of historical numbat observations. The observations without point data are included in the selection but are automatically excluded from the plot."
   ]
  },
  {
   "cell_type": "code",
   "execution_count": null,
   "metadata": {},
   "outputs": [],
   "source": [
    "selHistNumbats = arcpy.management.SelectLayerByAttribute(\"NumbatsFC\",\n",
    "                                                             \"NEW_SELECTION\",\n",
    "                                                             \"year < 2000\")\n",
    "\n",
    "arcpy.CopyFeatures_management(selHistNumbats, \"HistNumbatsFC\")"
   ]
  },
  {
   "cell_type": "markdown",
   "metadata": {},
   "source": [
    "Bearing in mind the limited sample size, the results are still quite interesting: numbats appeared to also be present in the Australian state of Northern Territory as recently as the late 1960s, but they are no longer observed there now. Once again, these observations are nowhere near zoos, but they are probably located in protected areas. The two in Western Australia are definitely located in Dryandra Woodland National Park, and the two in New South Wales are located in a similar (likely protected) area to current numbats."
   ]
  },
  {
   "cell_type": "code",
   "execution_count": null,
   "metadata": {},
   "outputs": [],
   "source": [
    "map4 = gis.map('Australia', zoomlevel = 3)\n",
    "\n",
    "map4.basemap = 'dark-gray-vector'\n",
    "\n",
    "HistNumbatsDF = pd.DataFrame.spatial.from_featureclass(\"HistNumbatsFC\")\n",
    "\n",
    "HistNumbatsDF.spatial.plot(map_widget = map4,\n",
    "                            renderer_type='s', # s - for single value\n",
    "                            symbol_type='simple',\n",
    "                            symbol_style='x', # x - for crosses\n",
    "                            colors='Purples',\n",
    "                            outline_color='Purples',\n",
    "                            marker_size=10\n",
    "                       )\n",
    "\n",
    "AusZoosDF.spatial.plot(map_widget = map4,\n",
    "                            renderer_type='s',\n",
    "                            symbol_style='o', # d - for diamonds\n",
    "                            colors='Blues_r',\n",
    "                            outline_color='Blues_r',\n",
    "                            marker_size=3)\n",
    "\n",
    "\n",
    "sym_borders = {\n",
    "  \"type\": \"esriSFS\",\n",
    "  \"style\": \"esriSFSSolid\",\n",
    "  \"color\": [0,0,0,0],  # hollow, no fill\n",
    "    \"outline\": {\n",
    "     \"type\": \"esriSLS\",\n",
    "     \"style\": \"esriSLSSolid\",\n",
    "     \"color\": [255,0,0,255],  # red border\n",
    "     \"width\": 1}\n",
    "}\n",
    "\n",
    "for val in AusBordersDF['SHAPE']:\n",
    "    map4.draw(val, symbol = sym_borders)\n",
    "\n",
    "map4"
   ]
  },
  {
   "cell_type": "markdown",
   "metadata": {},
   "source": [
    "***Map 4*: Historical numbat observations. Other layers are also plotted.**<a class=\"anchor\" id=\"section6ciii\"></a>"
   ]
  },
  {
   "cell_type": "markdown",
   "metadata": {},
   "source": [
    "The historical data in this data set is incomplete. The image below is a better illustration of the historical range of the numbat. The map is hosted on *Wikimedia Commons*, but the data is derived from mitochondrial sequencing of remnant numbat populations. In the past, numbats literally covered much of Southwestern Australia - almost all of Southern Australia, and approximately half of Western Australia.\n",
    "\n",
    "However, as Australia was colonised, and invasive species were imported, numbats suffered a drastic drop in their population. Numbat populations suffered extinctions shown in yellow (1800–1910), orange (1910–1930), green (1930–1960), and blue (1960–1980), and with the remaining population shown in black. "
   ]
  },
  {
   "cell_type": "markdown",
   "metadata": {},
   "source": [
    "<img src=\"LocalImages/Numbat20.jpg\" alt= “CurrentNumbatDistribution” width=\"456\" height=\"300\">"
   ]
  },
  {
   "cell_type": "markdown",
   "metadata": {},
   "source": [
    "***Figure 5*: Historical range map of the numbat with extinctions shown in yellow (1800–1910), orange (1910–1930), green (1930–1960), and blue (1960–1980), and with its remaining range shown in black. ([Image Source](https://upload.wikimedia.org/wikipedia/commons/6/64/Numbat_historical_map.png), produced by Wikipedia users [Yarl](https://commons.wikimedia.org/wiki/User:Yarl) and [Baldhur](https://commons.wikimedia.org/wiki/User:Baldhur), with map data derived from [L. Fumagalli, C. Moritz, P. Taberlet & J. A. Friend: Mitochondrial DNA sequence variation within the remnant populations of the endangered numbat (Marsupialia: Myrmecobiidae: Myrmecobius fasciatus). In: Molecular Ecology 1999, no. 8, p. 1545-1549](https://onlinelibrary.wiley.com/doi/abs/10.1046/j.1365-294x.1999.00728.x), and used under [Creative Commons ShareAlike 3.0 Unported License (CC BY-SA 3.0](https://creativecommons.org/licenses/by-sa/3.0/))**<a class=\"anchor\" id=\"section6civ\"></a>"
   ]
  },
  {
   "cell_type": "markdown",
   "metadata": {},
   "source": [
    "#### Numbat Observations by Month<a class=\"anchor\" id=\"section6d\"></a>"
   ]
  },
  {
   "cell_type": "markdown",
   "metadata": {},
   "source": [
    "Since Australia is in the Southern Hemisphere, it experiences the opposite of the season the Northern Hemisphere experiences. As such, [the timeline of the seasons in Australia](https://www.australia.com/en-ca/facts-and-planning/when-to-go/australias-seasons.html) is as follows:\n",
    "\n",
    "- Spring: September to November\n",
    "- Summer: December to February\n",
    "- Autumn: March to May\n",
    "- Winter: June to August"
   ]
  },
  {
   "cell_type": "markdown",
   "metadata": {},
   "source": [
    "In order to determine the observations by season, the observations by month need to be determined first. This is a fairly straightforward process:\n",
    "\n",
    "- I drop all records with *Null* values in the *month* column.\n",
    "- I group the remaining records by month to determine the count of observations by month.\n",
    "- Since the resultant data frame has the months in alphabetical order and not chronological order (i.e. April, August, etc., and not January, February, etc.), I create and append a new column to the data frame for the months in alphabetical order.\n",
    "- I factorise the months by assigning them levels in chronological order.\n",
    "- I sort the month column by the factor/chronological order.\n",
    "\n",
    "There are 552 records in the data set with *Month* (and therefore, *Season* information)."
   ]
  },
  {
   "cell_type": "markdown",
   "metadata": {},
   "source": [
    "***Table 12*: Numbats observed in each month.**<a class=\"anchor\" id=\"section6di\"></a>"
   ]
  },
  {
   "cell_type": "code",
   "execution_count": null,
   "metadata": {},
   "outputs": [],
   "source": [
    "monthCount = NumbatsDF.dropna(subset = ['month'])\n",
    "\n",
    "monthSummary = monthCount.groupby(['month'])['month'].describe()\n",
    "\n",
    "monthSummary\n",
    "\n",
    "listMonths = ['January',\n",
    "              'February',\n",
    "              'March',\n",
    "              'April',\n",
    "              'May',\n",
    "              'June',\n",
    "              'July',\n",
    "              'August',\n",
    "              'September',\n",
    "              'October',\n",
    "              'November',\n",
    "              'December']\n",
    "\n",
    "listSortedMonths = sorted(listMonths)\n",
    "\n",
    "monthSummary['Month'] = listSortedMonths\n",
    "\n",
    "monthSummary['Month'] = pd.Categorical(monthSummary['Month'], ['January',\n",
    "                                                              'February',\n",
    "                                                              'March',\n",
    "                                                              'April',\n",
    "                                                              'May',\n",
    "                                                              'June',\n",
    "                                                              'July',\n",
    "                                                              'August',\n",
    "                                                              'September',\n",
    "                                                              'October',\n",
    "                                                              'November',\n",
    "                                                              'December'])\n",
    "\n",
    "monthReordered = monthSummary.sort_values('Month')\n",
    "\n",
    "monthReordered"
   ]
  },
  {
   "cell_type": "code",
   "execution_count": null,
   "metadata": {},
   "outputs": [],
   "source": [
    "monthReordered['count'].sum()"
   ]
  },
  {
   "cell_type": "markdown",
   "metadata": {},
   "source": [
    "Finally, I chart the final data frame.\n",
    "\n",
    "Numbats are observed during the warmer months in Australia, from late Spring to late Summer, but I will confirm these findings later on.\n",
    "\n",
    "They are not as frequently observed during Winter, likely because they have entered a state of hibernation. Additionally, since their young are born during the later Summer to early Winter (January to May), they are likely also taking care of their young and protecting them from predators. "
   ]
  },
  {
   "cell_type": "code",
   "execution_count": null,
   "metadata": {},
   "outputs": [],
   "source": [
    "sns.set(style='whitegrid', rc={'figure.figsize':(20,10)})\n",
    "\n",
    "ax = sns.barplot(x='Month', y='count', data=monthReordered, color='firebrick')\n",
    "\n",
    "ax.set(title='Numbat Observations per Month', ylabel='Count')\n",
    "\n",
    "plt.show()"
   ]
  },
  {
   "cell_type": "markdown",
   "metadata": {},
   "source": [
    "***Figure 6*: Bar chart showing numbat observations per month.**<a class=\"anchor\" id=\"section6dii\"></a>"
   ]
  },
  {
   "cell_type": "markdown",
   "metadata": {},
   "source": [
    "Plotting this data on a map is even easier - just symbolise the data by month."
   ]
  },
  {
   "cell_type": "code",
   "execution_count": null,
   "metadata": {
    "scrolled": true
   },
   "outputs": [],
   "source": [
    "map5 = gis.map('Australia', zoomlevel = 3)\n",
    "\n",
    "map5.basemap = 'dark-gray-vector'\n",
    "\n",
    "monthCount.spatial.plot(map_widget = map5,\n",
    "                            renderer_type='u', # u - for unique values\n",
    "                            col='month' # the column by which each unique value is specified\n",
    "                      )\n",
    "\n",
    "sym_borders = {\n",
    "  \"type\": \"esriSFS\",\n",
    "  \"style\": \"esriSFSSolid\",\n",
    "  \"color\": [0,0,0,0],  # hollow, no fill\n",
    "    \"outline\": {\n",
    "     \"type\": \"esriSLS\",\n",
    "     \"style\": \"esriSLSSolid\",\n",
    "     \"color\": [255,0,0,255],  # red border\n",
    "     \"width\": 1}\n",
    "}\n",
    "\n",
    "for val in AusBordersDF['SHAPE']:\n",
    "    map5.draw(val, symbol = sym_borders)\n",
    "    \n",
    "\n",
    "map5.legend = True\n",
    "\n",
    "map5"
   ]
  },
  {
   "cell_type": "markdown",
   "metadata": {},
   "source": [
    "***Map 5*: Numbat observations coloured by month. Other layers are also plotted.**<a class=\"anchor\" id=\"section6diii\"></a>"
   ]
  },
  {
   "cell_type": "markdown",
   "metadata": {},
   "source": [
    "#### Numbat Observations by Season<a class=\"anchor\" id=\"section6e\"></a>"
   ]
  },
  {
   "cell_type": "markdown",
   "metadata": {},
   "source": [
    "After the observations by month have been plotted, I can now plot observations by season.\n",
    "\n",
    "- I define a function which assigns a season to the specified list of months (Note: this dataframe has all *Null/None* values removed).\n",
    "- I create and append a new column for the seasons values.\n",
    "- I iterate through each record and assign a season to each record based on its month."
   ]
  },
  {
   "cell_type": "markdown",
   "metadata": {},
   "source": [
    "***Table 13*: Numbats observed in each month, with season labels attached.**<a class=\"anchor\" id=\"section6ei\"></a>"
   ]
  },
  {
   "cell_type": "code",
   "execution_count": null,
   "metadata": {},
   "outputs": [],
   "source": [
    "def label_seasons (row):\n",
    "    if row['Month'] in ['September', 'October', 'November']:\n",
    "        return 'Spring'\n",
    "    elif row['Month'] in ['December', 'January', 'February']:\n",
    "        return 'Summer'\n",
    "    elif row['Month'] in ['March', 'April', 'May']:\n",
    "        return 'Autumn'\n",
    "    else:\n",
    "        return 'Winter'\n",
    "\n",
    "monthReordered['Season'] = monthReordered.apply(lambda row: label_seasons(row), axis=1)\n",
    "\n",
    "monthReordered"
   ]
  },
  {
   "cell_type": "markdown",
   "metadata": {},
   "source": [
    "Next I group by and sum the counts by season."
   ]
  },
  {
   "cell_type": "markdown",
   "metadata": {},
   "source": [
    "***Table 14*: Numbat observations by season.**<a class=\"anchor\" id=\"section6eii\"></a>"
   ]
  },
  {
   "cell_type": "code",
   "execution_count": null,
   "metadata": {},
   "outputs": [],
   "source": [
    "seasonSummary = monthReordered.groupby('Season').sum()\n",
    "\n",
    "seasonSummary"
   ]
  },
  {
   "cell_type": "markdown",
   "metadata": {},
   "source": [
    "The resultant data frame has the seasons in alphabetical order and not chronological order (i.e. Autumn, Spring, etc., and not Spring, Summer, etc.)\n",
    "\n",
    "- I create a list of the seasons in alphabetical order, and create a new column in the data frame called *Seasons*. The list is assigned to this new column.\n",
    "- I factorise the seasons by assigning them levels in chronological order.\n",
    "- I sort the *Seasons* column by the factor/chronological order."
   ]
  },
  {
   "cell_type": "markdown",
   "metadata": {},
   "source": [
    "***Table 15*: Numbat observations by season, but with an extra column to make it easier to plot.**<a class=\"anchor\" id=\"section6eiii\"></a>"
   ]
  },
  {
   "cell_type": "code",
   "execution_count": null,
   "metadata": {},
   "outputs": [],
   "source": [
    "listSeasons = ['Autumn',\n",
    "              'Spring',\n",
    "              'Summer',\n",
    "              'Winter']\n",
    "\n",
    "seasonSummary['Seasons'] = listSeasons\n",
    "\n",
    "seasonSummary['Seasons'] = pd.Categorical(seasonSummary['Seasons'], ['Spring',\n",
    "                                                                     'Summer',\n",
    "                                                                     'Autumn',\n",
    "                                                                     'Winter'])\n",
    "\n",
    "seasonReordered = seasonSummary.sort_values('Seasons')\n",
    "\n",
    "seasonReordered"
   ]
  },
  {
   "cell_type": "markdown",
   "metadata": {},
   "source": [
    "I chart the final data frame. This confirms my findings from before - numbats are more frequently observed during the warmer months of Spring and Summer."
   ]
  },
  {
   "cell_type": "code",
   "execution_count": null,
   "metadata": {},
   "outputs": [],
   "source": [
    "sns.set(style='whitegrid', rc={'figure.figsize':(20,10)})\n",
    "\n",
    "ax = sns.barplot(x='Seasons', y='count', data=seasonReordered, color='steelblue')\n",
    "\n",
    "ax.set(title='Numbat Observations per Season', ylabel='Count', xlabel = 'Season')\n",
    "\n",
    "plt.show()"
   ]
  },
  {
   "cell_type": "markdown",
   "metadata": {},
   "source": [
    "***Figure 7*: Numbat observations by season.**<a class=\"anchor\" id=\"section6eiv\"></a>"
   ]
  },
  {
   "cell_type": "markdown",
   "metadata": {},
   "source": [
    "To plot this same data on a map, I reuse and adapt the season labelling function from before.\n",
    "\n",
    "I drop all *Null* values in the *month* column, and I assign season labels to the remaining records based on their corresponding month.\n",
    "\n",
    "Finally, I plot the data."
   ]
  },
  {
   "cell_type": "markdown",
   "metadata": {},
   "source": [
    "***Table 16*: The attribute table of the *NumbatsFC* Feature Class, reassigned to the SeasonPlot variable, with season labels assigned to observations with known month values.**<a class=\"anchor\" id=\"section6ev\"></a>"
   ]
  },
  {
   "cell_type": "code",
   "execution_count": null,
   "metadata": {},
   "outputs": [],
   "source": [
    "def label_seasons (row):\n",
    "    if row['month'] in ['Sep', 'Oct', 'Nov']:\n",
    "        return 'Spring'\n",
    "    elif row['month'] in ['Dec', 'Jan', 'Feb']:\n",
    "        return 'Summer'\n",
    "    elif row['month'] in ['Mar', 'Apr', 'May']:\n",
    "        return 'Autumn'\n",
    "    elif row['month'] in ['Jun', 'Jul', 'Aug']:\n",
    "        return 'Winter'\n",
    "    \n",
    "SeasonPlot = NumbatsDF.dropna(subset = ['month'])\n",
    "\n",
    "SeasonPlot['Season'] = SeasonPlot.apply(lambda row: label_seasons(row), axis=1)\n",
    "\n",
    "SeasonPlot"
   ]
  },
  {
   "cell_type": "code",
   "execution_count": null,
   "metadata": {},
   "outputs": [],
   "source": [
    "map6 = gis.map('Australia', zoomlevel = 3)\n",
    "\n",
    "map6.basemap = 'dark-gray-vector'\n",
    "\n",
    "SeasonPlot.spatial.plot(map_widget = map6,\n",
    "                            renderer_type='u', # u - for unique values\n",
    "                            col='Season' # the column by which each unique value is specified\n",
    "                      )\n",
    "\n",
    "sym_borders = {\n",
    "  \"type\": \"esriSFS\",\n",
    "  \"style\": \"esriSFSSolid\",\n",
    "  \"color\": [0,0,0,0],  # hollow, no fill\n",
    "    \"outline\": {\n",
    "     \"type\": \"esriSLS\",\n",
    "     \"style\": \"esriSLSSolid\",\n",
    "     \"color\": [255,0,0,255],  # red border\n",
    "     \"width\": 1}\n",
    "}\n",
    "\n",
    "for val in AusBordersDF['SHAPE']:\n",
    "    map6.draw(val, symbol = sym_borders)\n",
    "    \n",
    "\n",
    "map6.legend = True\n",
    "\n",
    "map6"
   ]
  },
  {
   "cell_type": "markdown",
   "metadata": {},
   "source": [
    "***Map 6*: Numbat observations coloured by season. Other layers are also plotted.**<a class=\"anchor\" id=\"section6evi\"></a>"
   ]
  },
  {
   "cell_type": "markdown",
   "metadata": {},
   "source": [
    "#### Numbat Observations by Day<a class=\"anchor\" id=\"section6f\"></a>"
   ]
  },
  {
   "cell_type": "markdown",
   "metadata": {},
   "source": [
    "Determining the number of numbat observations by *Day* follows a similar workflow to calculating the number of numbat observations by *Month*.\n",
    "\n",
    "- I drop all records with *Null* values in the *day* column.\n",
    "- I group the remaining records by day to determine the count of observations by day.\n",
    "- Since the resultant data frame has the day in alphabetical order and not chronological order (i.e. Friday, Monday, etc., and not Monday, Tuesday, etc.), I create and append a new column to the data frame for the days in alphabetical order.\n",
    "- I factorise the days by assigning them levels in chronological order.\n",
    "- I sort the days column by the factor/chronological order.\n",
    "\n",
    "There are 552 records in the data set with *Day*, probably the same ones with *Month* information, though I am not going to confirm this."
   ]
  },
  {
   "cell_type": "markdown",
   "metadata": {},
   "source": [
    "***Table 17*: Numbat observations by day.**<a class=\"anchor\" id=\"section6fi\"></a>"
   ]
  },
  {
   "cell_type": "code",
   "execution_count": null,
   "metadata": {},
   "outputs": [],
   "source": [
    "dayCount = NumbatsDF.dropna(subset = ['wday'])\n",
    "\n",
    "daySummary = dayCount.groupby(['wday'])['wday'].describe()\n",
    "\n",
    "listDays = ['Monday',\n",
    "              'Tuesday',\n",
    "              'Wednesday',\n",
    "              'Thursday',\n",
    "              'Friday',\n",
    "              'Saturday',\n",
    "              'Sunday']\n",
    "\n",
    "listSortedDays = sorted(listDays)\n",
    "\n",
    "daySummary['Day'] = listSortedDays\n",
    "\n",
    "daySummary['Day'] = pd.Categorical(daySummary['Day'], ['Monday',\n",
    "                                                          'Tuesday',\n",
    "                                                          'Wednesday',\n",
    "                                                          'Thursday',\n",
    "                                                          'Friday',\n",
    "                                                          'Saturday',\n",
    "                                                          'Sunday'])\n",
    "\n",
    "dayReordered = daySummary.sort_values('Day')\n",
    "\n",
    "dayReordered"
   ]
  },
  {
   "cell_type": "code",
   "execution_count": null,
   "metadata": {},
   "outputs": [],
   "source": [
    "dayReordered['count'].sum()"
   ]
  },
  {
   "cell_type": "markdown",
   "metadata": {},
   "source": [
    "Finally, I chart the data frame.\n",
    "\n",
    "Numbat observations are spread fairly evenly across the week, though a larger share of numbats are observed on Mondays."
   ]
  },
  {
   "cell_type": "code",
   "execution_count": null,
   "metadata": {},
   "outputs": [],
   "source": [
    "sns.set(style='whitegrid', rc={'figure.figsize':(20,10)})\n",
    "\n",
    "ax = sns.barplot(x='Day', y='count', data=dayReordered, color='firebrick')\n",
    "\n",
    "ax.set(title='Numbat Observations by Day', ylabel='Count')\n",
    "\n",
    "plt.show()"
   ]
  },
  {
   "cell_type": "markdown",
   "metadata": {},
   "source": [
    "***Figure 8*: Numbat observations by day.**<a class=\"anchor\" id=\"section6fii\"></a>"
   ]
  },
  {
   "cell_type": "markdown",
   "metadata": {},
   "source": [
    "I plot this data on a map.\n",
    "\n",
    "Interestingly, the numbats observed in the Northern Territories were all observed on the same day - Friday, 14 November 1968. Due to how rare and elusive they are, it is possible that numbats are observed by people who can recognise them and are specifically keeping an eye out for them, possibly as part of a field excursion or study."
   ]
  },
  {
   "cell_type": "code",
   "execution_count": null,
   "metadata": {},
   "outputs": [],
   "source": [
    "map7 = gis.map('Australia', zoomlevel = 3)\n",
    "\n",
    "map7.basemap = 'dark-gray-vector'\n",
    "\n",
    "dayCount.spatial.plot(map_widget = map7,\n",
    "                            renderer_type='u', # u - for unique values\n",
    "                            col='wday' # the column by which each unique value is specified\n",
    "                      )\n",
    "\n",
    "sym_borders = {\n",
    "  \"type\": \"esriSFS\",\n",
    "  \"style\": \"esriSFSSolid\",\n",
    "  \"color\": [0,0,0,0],  # hollow, no fill\n",
    "    \"outline\": {\n",
    "     \"type\": \"esriSLS\",\n",
    "     \"style\": \"esriSLSSolid\",\n",
    "     \"color\": [255,0,0,255],  # red border\n",
    "     \"width\": 1}\n",
    "}\n",
    "\n",
    "for val in AusBordersDF['SHAPE']:\n",
    "    map7.draw(val, symbol = sym_borders)\n",
    "    \n",
    "\n",
    "map7.legend = True\n",
    "\n",
    "map7"
   ]
  },
  {
   "cell_type": "markdown",
   "metadata": {},
   "source": [
    "***Map 7*: Numbat observations coloured by day. Other layers are also plotted.**<a class=\"anchor\" id=\"section6fiii\"></a>"
   ]
  },
  {
   "cell_type": "markdown",
   "metadata": {},
   "source": [
    "#### Numbat Observations by Day Type (Weekday/Weekend)<a class=\"anchor\" id=\"section6g\"></a>"
   ]
  },
  {
   "cell_type": "markdown",
   "metadata": {},
   "source": [
    "After the observations by day have been plotted, I can now plot observations by day type - either weekday or weekend.\n",
    "\n",
    "Similar to the season labelling function:\n",
    "\n",
    "- I define a function which assigns a day type to the specified list of days (Note: this dataframe has all Null/None values removed).\n",
    "- I create and append a new column for the day type values.\n",
    "- I iterate through each record and assign a day type to each record based on its day."
   ]
  },
  {
   "cell_type": "markdown",
   "metadata": {},
   "source": [
    "***Table 18*: Numbat observations by day, with day type labels (weekday or weekend) attached.**<a class=\"anchor\" id=\"section6gi\"></a>"
   ]
  },
  {
   "cell_type": "code",
   "execution_count": null,
   "metadata": {},
   "outputs": [],
   "source": [
    "def label_day (row):\n",
    "    if row['Day'] in ['Monday', 'Tuesday', 'Wednesday', 'Thursday', 'Friday']:\n",
    "        return 'Weekday'\n",
    "    else:\n",
    "        return 'Weekend'\n",
    "    \n",
    "dayReordered['DayType'] = dayReordered.apply(lambda row: label_day(row), axis=1)\n",
    "\n",
    "dayReordered"
   ]
  },
  {
   "cell_type": "markdown",
   "metadata": {},
   "source": [
    "***Table 19*: Numbat observations by day type.**<a class=\"anchor\" id=\"section16gii\"></a>"
   ]
  },
  {
   "cell_type": "code",
   "execution_count": null,
   "metadata": {},
   "outputs": [],
   "source": [
    "dayTypeSummary = dayReordered.groupby('DayType').sum()\n",
    "\n",
    "dayTypeSummary"
   ]
  },
  {
   "cell_type": "code",
   "execution_count": null,
   "metadata": {},
   "outputs": [],
   "source": [
    "listDayType = ['Weekday',\n",
    "              'Weekend']\n",
    "\n",
    "dayTypeSummary['DayType'] = listDayType"
   ]
  },
  {
   "cell_type": "markdown",
   "metadata": {},
   "source": [
    "It is not a surprise to see that numbats are observed far more on weekdays than weekends."
   ]
  },
  {
   "cell_type": "code",
   "execution_count": null,
   "metadata": {},
   "outputs": [],
   "source": [
    "sns.set(style='whitegrid', rc={'figure.figsize':(20,10)})\n",
    "\n",
    "ax = sns.barplot(x='DayType', y='count', data=dayTypeSummary, color='steelblue')\n",
    "\n",
    "ax.set(title='Numbat Observations by Day Type', ylabel='Count', xlabel = 'Day Type')\n",
    "\n",
    "plt.show()"
   ]
  },
  {
   "cell_type": "markdown",
   "metadata": {},
   "source": [
    "***Figure 9*: Numbat observations by day type.**<a class=\"anchor\" id=\"section6giii\"></a>"
   ]
  },
  {
   "cell_type": "markdown",
   "metadata": {},
   "source": [
    "Again I reuse and adapt the Season labelling function, though this time I am assigning day types instead, and I plot this data on a map."
   ]
  },
  {
   "cell_type": "markdown",
   "metadata": {},
   "source": [
    "***Table 20*: The attribute table of the NumbatsFC Feature Class, reassigned to the DayTypePlot variable, with day type labels assigned to observations with known day values.**<a class=\"anchor\" id=\"section6giv\"></a>"
   ]
  },
  {
   "cell_type": "code",
   "execution_count": null,
   "metadata": {},
   "outputs": [],
   "source": [
    "def label_day (row):\n",
    "    if row['wday'] in ['Mon', 'Tue', 'Wed', 'Thu', 'Fri']:\n",
    "        return 'Weekday'\n",
    "    elif row['wday'] in ['Sat', 'Sun']:\n",
    "        return 'Weekend'\n",
    "    \n",
    "DayTypePlot = NumbatsDF.dropna(subset = ['wday'])\n",
    "\n",
    "DayTypePlot['DayType'] = DayTypePlot.apply(lambda row: label_day(row), axis=1)\n",
    "\n",
    "DayTypePlot"
   ]
  },
  {
   "cell_type": "code",
   "execution_count": null,
   "metadata": {},
   "outputs": [],
   "source": [
    "map8 = gis.map('Australia', zoomlevel = 3)\n",
    "\n",
    "map8.basemap = 'dark-gray-vector'\n",
    "\n",
    "DayTypePlot.spatial.plot(map_widget = map8,\n",
    "                            renderer_type='u', # u - for unique values\n",
    "                            col='DayType' # the column by which each unique value is specified\n",
    "                      )\n",
    "\n",
    "sym_borders = {\n",
    "  \"type\": \"esriSFS\",\n",
    "  \"style\": \"esriSFSSolid\",\n",
    "  \"color\": [0,0,0,0],  # hollow, no fill\n",
    "    \"outline\": {\n",
    "     \"type\": \"esriSLS\",\n",
    "     \"style\": \"esriSLSSolid\",\n",
    "     \"color\": [255,0,0,255],  # red border\n",
    "     \"width\": 1}\n",
    "}\n",
    "\n",
    "for val in AusBordersDF['SHAPE']:\n",
    "    map8.draw(val, symbol = sym_borders)\n",
    "    \n",
    "\n",
    "map8.legend = True\n",
    "\n",
    "map8"
   ]
  },
  {
   "cell_type": "markdown",
   "metadata": {},
   "source": [
    "***Map 8*: Numbat observations by day type.**<a class=\"anchor\" id=\"section6v\"></a>"
   ]
  },
  {
   "cell_type": "markdown",
   "metadata": {},
   "source": [
    "#### Numbat Observations by Time of Day<a class=\"anchor\" id=\"section6h\"></a>"
   ]
  },
  {
   "cell_type": "markdown",
   "metadata": {},
   "source": [
    "Generally speaking, temperatures tend to drop during nighttime. However, from previous analyses, numbats are most observed during warmer months. If numbats prefer higher temperatures, chances are they are most likely diurnal instead of nocturnal, meaning they are most active during daytime."
   ]
  },
  {
   "cell_type": "markdown",
   "metadata": {},
   "source": [
    "- I drop all records with Null values in the *hour* column.\n",
    "- I transform the remaining values in the *hour* column to numbers.\n",
    "- I group the remaining records by hour to determine the count of observations by time of day.\n",
    "- Since the *hour* column has been transformed into numeric format, there is no need to reorder or factorise the column. Instead I create a new column to make it easier to create charts from this data. (Note: ironically, while hours are numeric values, functionally they are categorical variables, especially since only the hour values are recorded in the data set.)\n",
    "\n",
    "Again, I calculate the sum of the remaining values, and once again, there are 552 records with recorded *time* values, the same 552 records from the *Month* and *Day* analyses."
   ]
  },
  {
   "cell_type": "markdown",
   "metadata": {},
   "source": [
    "***Table 21*: Numbat observations by time of day (hours).**<a class=\"anchor\" id=\"section6hi\"></a>"
   ]
  },
  {
   "cell_type": "code",
   "execution_count": null,
   "metadata": {},
   "outputs": [],
   "source": [
    "timeCount = NumbatsDF.dropna(subset = ['hour'])\n",
    "\n",
    "timeCount['hour'] = pd.to_numeric(timeCount['hour'])\n",
    "\n",
    "timeSummary = timeCount.groupby(['hour'])['hour'].describe()\n",
    "\n",
    "listHour = [0, 1, 2, 3, 4, 5, 6, 7, 8, 9, 10, 12, 13, 14, 16, 18, 19, 20, 21, 22]\n",
    "\n",
    "timeSummary['Hour'] = listHour\n",
    "\n",
    "timeSummary"
   ]
  },
  {
   "cell_type": "code",
   "execution_count": null,
   "metadata": {},
   "outputs": [],
   "source": [
    "timeSummary['count'].sum()"
   ]
  },
  {
   "cell_type": "markdown",
   "metadata": {},
   "source": [
    "I plot the data frame.\n",
    "\n",
    "While the results are what I expected, I am still surprised at how frequently numbats are observed at 1 pm.\n",
    "\n",
    "Interestingly, numbats are also slightly more active during the early morning hours, as opposed to the late afternoon and evening hours, though I am not sure why.\n",
    "\n",
    "Since [numbats eat termites almost exclusively](https://www.edgeofexistence.org/blog/species-of-the-week-numbat/), and termites tend to be most active during the day, numbats are also most active during the day. In fact, they are the only marsupial who are fully active during the day."
   ]
  },
  {
   "cell_type": "code",
   "execution_count": null,
   "metadata": {},
   "outputs": [],
   "source": [
    "sns.set(style='whitegrid', rc={'figure.figsize':(20,10)})\n",
    "\n",
    "ax = sns.barplot(x='Hour', y='count', data=timeSummary, color='green')\n",
    "\n",
    "ax.set(title='Numbat Observations by Time of Day', ylabel='Count')\n",
    "\n",
    "plt.show()"
   ]
  },
  {
   "cell_type": "markdown",
   "metadata": {},
   "source": [
    "***Figure 10*: Numbat observations by time of day (hour).**<a class=\"anchor\" id=\"section6hii\"></a>"
   ]
  },
  {
   "cell_type": "markdown",
   "metadata": {},
   "source": [
    "To plot this data on my final map, I simply drop all records with missing *hour* values, and I plot the rest using unique values.\n",
    "\n",
    "Most interestingly, numbats were observed in Dryandra Woodland National Park at many different times of day. However, the current populations of numbats in New South Wales were all observed just after noon."
   ]
  },
  {
   "cell_type": "markdown",
   "metadata": {},
   "source": [
    "***Table 22*: The attribute table of the NumbatsFC Feature Class, reassigned to the TimePlot variable. Observations with known hour values are displayed.**<a class=\"anchor\" id=\"section6hiii\"></a>"
   ]
  },
  {
   "cell_type": "code",
   "execution_count": null,
   "metadata": {},
   "outputs": [],
   "source": [
    "TimePlot = NumbatsDF.dropna(subset = ['hour'])\n",
    "\n",
    "TimePlot"
   ]
  },
  {
   "cell_type": "code",
   "execution_count": null,
   "metadata": {},
   "outputs": [],
   "source": [
    "map9 = gis.map('Australia', zoomlevel = 3)\n",
    "\n",
    "map9.basemap = 'dark-gray-vector'\n",
    "\n",
    "TimePlot.spatial.plot(map_widget = map9,\n",
    "                            renderer_type='u', # u - for unique values\n",
    "                            col='hour' # the column by which each unique value is specified\n",
    "                      )\n",
    "\n",
    "sym_borders = {\n",
    "  \"type\": \"esriSFS\",\n",
    "  \"style\": \"esriSFSSolid\",\n",
    "  \"color\": [0,0,0,0],  # hollow, no fill\n",
    "    \"outline\": {\n",
    "     \"type\": \"esriSLS\",\n",
    "     \"style\": \"esriSLSSolid\",\n",
    "     \"color\": [255,0,0,255],  # red border\n",
    "     \"width\": 1}\n",
    "}\n",
    "\n",
    "for val in AusBordersDF['SHAPE']:\n",
    "    map9.draw(val, symbol = sym_borders)\n",
    "    \n",
    "\n",
    "map9.legend = True\n",
    "\n",
    "map9"
   ]
  },
  {
   "cell_type": "markdown",
   "metadata": {},
   "source": [
    "***Map 9*: Numbat observations coloured by time of day (hour). Other layers are also plotted.**<a class=\"anchor\" id=\"section6hiv\"></a>"
   ]
  },
  {
   "cell_type": "markdown",
   "metadata": {},
   "source": [
    "#### Numbat Observations on Sunny, Dry, Warm Days and Cloudy, Wet, Cold Days<a class=\"anchor\" id=\"section6I\"></a>"
   ]
  },
  {
   "cell_type": "markdown",
   "metadata": {},
   "source": [
    "I plot the number of numbat observations in terms of weather. As numbats are more commonly observed during the warmer months, it is likely they are more commonly observed on sunny, warmer days than cloudy, wet, and cold days."
   ]
  },
  {
   "cell_type": "markdown",
   "metadata": {},
   "source": [
    "First, I count the number of records with temperature and precipitation information.\n",
    "\n",
    "There are 59 records with precipitation information, and 57 records with maximum and minimum temperature information. Therefore, it makes sense to use the precipitation data as there are more records available.\n",
    "\n",
    "However, looking at the complete data set, one row is missing both maximum and minimum temperature values. One row is missing the minimum temperature value only. One row is missing the maximum temperature value only. That means there are three records which cannot be used when plotting this data."
   ]
  },
  {
   "cell_type": "code",
   "execution_count": null,
   "metadata": {},
   "outputs": [],
   "source": [
    "precCount = NumbatsDF.dropna(subset = ['prcp'])\n",
    "tmaxCount = NumbatsDF.dropna(subset = ['tmax'])\n",
    "tminCount = NumbatsDF.dropna(subset = ['tmin'])\n",
    "\n",
    "precCount['prcp'].describe()\n"
   ]
  },
  {
   "cell_type": "code",
   "execution_count": null,
   "metadata": {},
   "outputs": [],
   "source": [
    "tmaxCount['tmax'].describe()\n"
   ]
  },
  {
   "cell_type": "code",
   "execution_count": null,
   "metadata": {},
   "outputs": [],
   "source": [
    "tminCount['tmin'].describe()"
   ]
  },
  {
   "cell_type": "markdown",
   "metadata": {},
   "source": [
    "Additionally, as mentioned previously, while all of this data appears numeric, it is in fact categorical. If I plot a histogram of the minimum temperature data, the values appear out of numeric order. I will have to convert this data before I can plot it."
   ]
  },
  {
   "cell_type": "code",
   "execution_count": null,
   "metadata": {},
   "outputs": [],
   "source": [
    "sns.set(style='whitegrid', rc={'figure.figsize':(20,10)})\n",
    "\n",
    "ax = sns.histplot(x='prcp', data=tminCount, color='navajowhite')\n",
    "\n",
    "ax.set(title='Numbat Observations by Precipitation Level', xlabel='Precipitation (millimetres, mm)')\n",
    "\n",
    "plt.show()"
   ]
  },
  {
   "cell_type": "markdown",
   "metadata": {},
   "source": [
    "***Figure 11*: Numbat observed at various precipitation levels. Unfortunately, the precipiation data is not in numeric format, meaning the data has to modified further.**<a class=\"anchor\" id=\"section6Ii\"></a>"
   ]
  },
  {
   "cell_type": "markdown",
   "metadata": {},
   "source": [
    "Lastly, all of these temperature and precipitation values have been recorded for numbats observed in Dryandra Woodland National Park. This information is not available for numbats observed elsewhere."
   ]
  },
  {
   "cell_type": "code",
   "execution_count": null,
   "metadata": {},
   "outputs": [],
   "source": [
    "map10 = gis.map('Dryandra Woodland National Park, Western Australia', zoomlevel = 8)\n",
    "\n",
    "map10.basemap = 'dark-gray-vector'\n",
    "\n",
    "precCount.spatial.plot(map_widget = map10,\n",
    "                            renderer_type='s',\n",
    "                            symbol_style='o', # d - for diamonds\n",
    "                            colors='Blues_r',\n",
    "                            outline_color='Blues_r',\n",
    "                            marker_size=3)\n",
    "\n",
    "sym_borders = {\n",
    "  \"type\": \"esriSFS\",\n",
    "  \"style\": \"esriSFSSolid\",\n",
    "  \"color\": [0,0,0,0],  # hollow, no fill\n",
    "    \"outline\": {\n",
    "     \"type\": \"esriSLS\",\n",
    "     \"style\": \"esriSLSSolid\",\n",
    "     \"color\": [255,0,0,255],  # red border\n",
    "     \"width\": 1}\n",
    "}\n",
    "\n",
    "for val in AusBordersDF['SHAPE']:\n",
    "    map10.draw(val, symbol = sym_borders)\n",
    "    \n",
    "\n",
    "map10.legend = True\n",
    "\n",
    "map10"
   ]
  },
  {
   "cell_type": "markdown",
   "metadata": {},
   "source": [
    "***Map 10*: Numbat observations with known precipitation values. Other layers are also plotted.**<a class=\"anchor\" id=\"section6Iii\"></a>"
   ]
  },
  {
   "cell_type": "markdown",
   "metadata": {},
   "source": [
    "I convert the data to numeric and I examine their descriptive statistics.\n",
    "\n",
    "- Numbats are almost always observed on dry days with very little rain, with the exception of at least one major outlier.\n",
    "- Numbats are observed on decently warm days with average maximum temperatures of about 22 degrees Celsius.\n",
    "- Numbats are also observed on decently cool days with average minimum temperatures of approximately 8 degrees Celsius."
   ]
  },
  {
   "cell_type": "markdown",
   "metadata": {},
   "source": [
    "***Table 23*: Descriptive statistics of numbat observations with known precipitation values.**<a class=\"anchor\" id=\"section6Iiii\"></a>"
   ]
  },
  {
   "cell_type": "code",
   "execution_count": null,
   "metadata": {},
   "outputs": [],
   "source": [
    "precCount['prcp'] = pd.to_numeric(precCount['prcp'])\n",
    "precCount['tmax'] = pd.to_numeric(precCount['tmax'])\n",
    "precCount['tmin'] = pd.to_numeric(precCount['tmin'])\n",
    "\n",
    "precCount['prcp'].describe()"
   ]
  },
  {
   "cell_type": "markdown",
   "metadata": {},
   "source": [
    "***Table 24*: Descriptive statistics of numbat observations with known maximum temperature values.**<a class=\"anchor\" id=\"section6Iiv\"></a>"
   ]
  },
  {
   "cell_type": "code",
   "execution_count": null,
   "metadata": {},
   "outputs": [],
   "source": [
    "precCount['tmax'].describe()"
   ]
  },
  {
   "cell_type": "markdown",
   "metadata": {},
   "source": [
    "***Table 25*: Descriptive statistics of numbat observations with known minimum temperature values.**<a class=\"anchor\" id=\"section6Iv\"></a>"
   ]
  },
  {
   "cell_type": "code",
   "execution_count": null,
   "metadata": {},
   "outputs": [],
   "source": [
    "precCount['tmin'].describe()"
   ]
  },
  {
   "cell_type": "markdown",
   "metadata": {},
   "source": [
    "Plotting these charts places these trends into perspective.\n",
    "\n",
    "- Numbats are definitely observed on dry days. Since the four observations recorded at precipitation levels above 2 mm are one standard deviation past the mean, these are outliers.\n",
    "- Numbats tend to be more frequently observed on days with lower maximum and minimum temperatures, though this relationship requires further examination via the use of scatter and regression plots."
   ]
  },
  {
   "cell_type": "code",
   "execution_count": null,
   "metadata": {},
   "outputs": [],
   "source": [
    "ax = sns.histplot(x='prcp', data=precCount, color='steelblue')\n",
    "\n",
    "ax.set(title='Numbat Observations in Dryandra Woodland National Park on Days with Recorded Precipitation', ylabel='Count', xlabel = 'Precipitation (mm)')\n",
    "\n",
    "plt.show()\n"
   ]
  },
  {
   "cell_type": "markdown",
   "metadata": {},
   "source": [
    "***Figure 12*: Counts of numbats observed in Dryandra Woodland National Park on days with recorded precipitation.**<a class=\"anchor\" id=\"section6Ivi\"></a>"
   ]
  },
  {
   "cell_type": "code",
   "execution_count": null,
   "metadata": {},
   "outputs": [],
   "source": [
    "ax = sns.histplot(x='tmax', data=precCount, color='tomato')\n",
    "\n",
    "ax.set(title='Numbat Observations in Dryandra Woodland National Park on Days with Recorded Maximum Temperatures', ylabel='Count', xlabel = 'Temperature (degrees Celsius, °C)')\n",
    "\n",
    "plt.show()\n"
   ]
  },
  {
   "cell_type": "markdown",
   "metadata": {},
   "source": [
    "***Figure 13*: Counts of numbats observed in Dryandra Woodland National Park on days with recorded maximum temperature values.**<a class=\"anchor\" id=\"section6vii\"></a>"
   ]
  },
  {
   "cell_type": "code",
   "execution_count": null,
   "metadata": {},
   "outputs": [],
   "source": [
    "ax = sns.histplot(x='tmin', data=precCount, color='navajowhite')\n",
    "\n",
    "ax.set(title='Numbat Observations in Dryandra Woodland National Park on Days with Recorded Minimum Temperatures', ylabel='Count', xlabel = 'Temperature (degrees Celsius, °C)')\n",
    "\n",
    "plt.show()"
   ]
  },
  {
   "cell_type": "markdown",
   "metadata": {},
   "source": [
    "***Figure 14*: Counts of numbats observed in Dryandra Woodland National Park on days with recorded minimum temperature values.**<a class=\"anchor\" id=\"section6viii\"></a>"
   ]
  },
  {
   "cell_type": "markdown",
   "metadata": {},
   "source": [
    "There is an obvious, strong, positive relationship between the two temperature columns - as minimum temperature increases, so does the maximum temperature. Most of the observations are concentrated around the lower maximum and minimum temperature values."
   ]
  },
  {
   "cell_type": "code",
   "execution_count": null,
   "metadata": {},
   "outputs": [],
   "source": [
    "ax = sns.regplot(x='tmin', y='tmax', data=precCount, color='purple',  line_kws={'color': 'g'})\n",
    "\n",
    "ax.set(title='Scatterplot of Numbat Observations in Dryandra Woodland National Park on Days with Recorded Minimum and Maximum Temperatures', ylabel='Maximum Temperature (degrees Celsius, °C)', xlabel = 'Minimum Temperature (degrees Celsius, °C)')\n",
    "\n",
    "plt.show()"
   ]
  },
  {
   "cell_type": "markdown",
   "metadata": {},
   "source": [
    "***Figure 15*: Scatter and regression plot showing the relationship between minimum and maximum temperature at Dryandra Woodland National Park.**<a class=\"anchor\" id=\"section6Iix\"></a>"
   ]
  },
  {
   "cell_type": "markdown",
   "metadata": {},
   "source": [
    "But there is not an obvious strong relationship between temperature and the precipitation levels at Dryandra Woodland National Park. In the case of the relationship between precipitation and maximum temperature, there is a weak, negative relationship between the two variables - as maximum temperature increases, precipitation levels decrease, which makes sense. However, because of the low degree of confidence signified by the wide swath of the linear regression, more data is needed to confirm this seemingly obvious relationship."
   ]
  },
  {
   "cell_type": "code",
   "execution_count": null,
   "metadata": {},
   "outputs": [],
   "source": [
    "ax = sns.regplot(x='prcp', y='tmax', data=precCount, color='sienna', line_kws={'color': 'g'})\n",
    "\n",
    "ax.set(title='Scatterplot of Numbat Observations in Dryandra Woodland National Park on Days with Recorded Maximum Temperatures and Precipitation', xlabel='Precipitation (mm)', ylabel = 'Temperature (degrees Celsius, °C)')\n",
    "\n",
    "plt.show()"
   ]
  },
  {
   "cell_type": "markdown",
   "metadata": {},
   "source": [
    "***Figure 16*: Scatter and regression plot showing the relationship between precipitation and maximum temperature at Dryandra Woodland National Park.**<a class=\"anchor\" id=\"section6Ix\"></a>"
   ]
  },
  {
   "cell_type": "markdown",
   "metadata": {},
   "source": [
    "In the case of the relationship between precipitation and minimum temperature, there is no relationship (or at best, a very weak relationship) between the two variables. It appears minimum temperature is not correlated with precipitation levels. Again, because of the low degree of confidence signified by the wide swath of the linear regression, more data is needed to confirm this relationship."
   ]
  },
  {
   "cell_type": "code",
   "execution_count": null,
   "metadata": {},
   "outputs": [],
   "source": [
    "ax = sns.regplot(x='prcp', y='tmin', data=precCount, color='lightsalmon',  line_kws={'color': 'g'})\n",
    "\n",
    "ax.set(title='Scatterplot of Numbat Observations in Dryandra Woodland National Park on Days with Recorded Minimum Temperatures and Precipitation', xlabel='Precipitation (mm)', ylabel = 'Temperature (degrees Celsius, °C)')\n",
    "\n",
    "plt.show()"
   ]
  },
  {
   "cell_type": "markdown",
   "metadata": {},
   "source": [
    "***Figure 17*: Scatter and regression plot showing the relationship between precipitation and minimum temperature at Dryandra Woodland National Park.**<a class=\"anchor\" id=\"section6Ixi\"></a>"
   ]
  },
  {
   "cell_type": "markdown",
   "metadata": {},
   "source": [
    "### Discussion and Conclusion<a class=\"anchor\" id=\"section7\"></a>"
   ]
  },
  {
   "cell_type": "markdown",
   "metadata": {},
   "source": [
    "Numbats (*Myrmecobius fasciatus*) are marsupials indigenous to Australia. Currently numbats are concentrated in protected areas in Western Australia, Southern Australia and New South Wales. However, their historical range was much larger, covering almost all of Southwestern Australia. Their numbers declined significantly due to invasive predators such as the European red fox (*Vulpes vulpes*) and the domestic cat (*Felis catus*).\n",
    "\n",
    "Numbats are more frequently observed during the warmer months of the Spring, Summer and early Autumn. During the late Spring, numbats are raising their young, and during Winter, they enter hibernation, which may explain why they are less visible.\n",
    "\n",
    "Numbats are sighted more on weekdays (more often on Mondays) than on weekends, though the number of observations per day is relatively even.\n",
    "\n",
    "Numbats are diurnal, meaning they are commonly found during daytime, when their meal of preference - termites - are most active.\n",
    "\n",
    "Numbats are sighted more on dry days with an average maximum tempature of 22 degrees Celsius and an average minimum temperature of 8 degrees Celsius.\n",
    "\n",
    "There are fewer than 1000 numbat individuals in the wild and in zoos, meaning numbats are considered endangered species. Recent efforts to reintroduce them into their former habitats have seen some success. Hopefully the population of numbats in Australia can bounce back."
   ]
  },
  {
   "cell_type": "markdown",
   "metadata": {},
   "source": [
    "### References and Data Sources <a class=\"anchor\" id=\"section8\"></a>"
   ]
  },
  {
   "cell_type": "markdown",
   "metadata": {},
   "source": [
    "https://raw.githubusercontent.com/rfordatascience/tidytuesday/master/data/2023/2023-03-07/numbats.csv\n",
    "\n",
    "https://www.ala.org.au/\n",
    "\n",
    "https://bie.ala.org.au/species/https://biodiversity.org.au/afd/taxa/6c72d199-f0f1-44d3-8197-224a2f7cff5f#cite_note-iucn_status_12_November_2021-1\n",
    "\n",
    "https://www.google.com/maps/d/viewer?mid=1gZfkwO9Bo_hZalXZ_Gv1jC9TNWw&hl=en&ll=-32.42988895106844%2C144.9433406890317&z=5\n",
    "\n",
    "https://www.environment.gov.au/fed/catalog/search/resource/downloadData.page?uuid=%7B4448CACD-9DA8-43D1-A48F-48149FD5FCFD%7D\n",
    "\n",
    "https://www.australia.com/en-ca/facts-and-planning/when-to-go/australias-seasons.html\n",
    "\n",
    "https://github.com/rfordatascience/tidytuesday/blob/master/data/2023/2023-03-07/readme.md#data-dictionary\n",
    "\n",
    "https://www.environment.gov.au/cgi-bin/ahdb/search.pl?mode=place_detail;place_id=9928\n",
    "\n",
    "https://www.edgeofexistence.org/blog/species-of-the-week-numbat/"
   ]
  }
 ],
 "metadata": {
  "kernelspec": {
   "display_name": "Python 3",
   "language": "python",
   "name": "python3"
  },
  "language_info": {
   "file_extension": ".py",
   "name": "python",
   "version": "3"
  }
 },
 "nbformat": 4,
 "nbformat_minor": 2
}
